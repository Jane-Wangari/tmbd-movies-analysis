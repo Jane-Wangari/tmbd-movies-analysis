{
 "cells": [
  {
   "cell_type": "markdown",
   "id": "d0191c86",
   "metadata": {},
   "source": [
    "### tmdb-movies Analysis"
   ]
  },
  {
   "cell_type": "code",
   "execution_count": 1,
   "id": "64ef172c",
   "metadata": {},
   "outputs": [
    {
     "name": "stdout",
     "output_type": "stream",
     "text": [
      "Requirement already satisfied: squarify in c:\\users\\gacek\\anaconda3\\lib\\site-packages (0.4.3)\n"
     ]
    }
   ],
   "source": [
    "import pandas as pd\n",
    "import numpy as np\n",
    "import seaborn as sns\n",
    "import matplotlib.pyplot as plt\n",
    "%matplotlib inline\n",
    "from datetime import datetime\n",
    "import dateutil.parser\n",
    "import re\n",
    "from wordcloud import WordCloud\n",
    "!pip install squarify\n",
    "import squarify\n",
    "\n",
    "pd.set_option(\"expand_frame_repr\", True)\n",
    "\n",
    "\n"
   ]
  },
  {
   "cell_type": "code",
   "execution_count": 2,
   "id": "630a4d0d",
   "metadata": {},
   "outputs": [],
   "source": [
    "movies = pd.read_csv(\"tmdb-movies.csv\", parse_dates = True)"
   ]
  },
  {
   "cell_type": "code",
   "execution_count": 3,
   "id": "0a6304a8",
   "metadata": {},
   "outputs": [
    {
     "data": {
      "text/html": [
       "<div>\n",
       "<style scoped>\n",
       "    .dataframe tbody tr th:only-of-type {\n",
       "        vertical-align: middle;\n",
       "    }\n",
       "\n",
       "    .dataframe tbody tr th {\n",
       "        vertical-align: top;\n",
       "    }\n",
       "\n",
       "    .dataframe thead th {\n",
       "        text-align: right;\n",
       "    }\n",
       "</style>\n",
       "<table border=\"1\" class=\"dataframe\">\n",
       "  <thead>\n",
       "    <tr style=\"text-align: right;\">\n",
       "      <th></th>\n",
       "      <th>id</th>\n",
       "      <th>imdb_id</th>\n",
       "      <th>popularity</th>\n",
       "      <th>budget</th>\n",
       "      <th>revenue</th>\n",
       "      <th>original_title</th>\n",
       "      <th>cast</th>\n",
       "      <th>homepage</th>\n",
       "      <th>director</th>\n",
       "      <th>tagline</th>\n",
       "      <th>...</th>\n",
       "      <th>overview</th>\n",
       "      <th>runtime</th>\n",
       "      <th>genres</th>\n",
       "      <th>production_companies</th>\n",
       "      <th>release_date</th>\n",
       "      <th>vote_count</th>\n",
       "      <th>vote_average</th>\n",
       "      <th>release_year</th>\n",
       "      <th>budget_adj</th>\n",
       "      <th>revenue_adj</th>\n",
       "    </tr>\n",
       "  </thead>\n",
       "  <tbody>\n",
       "    <tr>\n",
       "      <th>0</th>\n",
       "      <td>135397</td>\n",
       "      <td>tt0369610</td>\n",
       "      <td>32.985763</td>\n",
       "      <td>150000000</td>\n",
       "      <td>1513528810</td>\n",
       "      <td>Jurassic World</td>\n",
       "      <td>Chris Pratt|Bryce Dallas Howard|Irrfan Khan|Vi...</td>\n",
       "      <td>http://www.jurassicworld.com/</td>\n",
       "      <td>Colin Trevorrow</td>\n",
       "      <td>The park is open.</td>\n",
       "      <td>...</td>\n",
       "      <td>Twenty-two years after the events of Jurassic ...</td>\n",
       "      <td>124</td>\n",
       "      <td>Action|Adventure|Science Fiction|Thriller</td>\n",
       "      <td>Universal Studios|Amblin Entertainment|Legenda...</td>\n",
       "      <td>6/9/15</td>\n",
       "      <td>5562</td>\n",
       "      <td>6.5</td>\n",
       "      <td>2015</td>\n",
       "      <td>1.379999e+08</td>\n",
       "      <td>1.392446e+09</td>\n",
       "    </tr>\n",
       "    <tr>\n",
       "      <th>1</th>\n",
       "      <td>76341</td>\n",
       "      <td>tt1392190</td>\n",
       "      <td>28.419936</td>\n",
       "      <td>150000000</td>\n",
       "      <td>378436354</td>\n",
       "      <td>Mad Max: Fury Road</td>\n",
       "      <td>Tom Hardy|Charlize Theron|Hugh Keays-Byrne|Nic...</td>\n",
       "      <td>http://www.madmaxmovie.com/</td>\n",
       "      <td>George Miller</td>\n",
       "      <td>What a Lovely Day.</td>\n",
       "      <td>...</td>\n",
       "      <td>An apocalyptic story set in the furthest reach...</td>\n",
       "      <td>120</td>\n",
       "      <td>Action|Adventure|Science Fiction|Thriller</td>\n",
       "      <td>Village Roadshow Pictures|Kennedy Miller Produ...</td>\n",
       "      <td>5/13/15</td>\n",
       "      <td>6185</td>\n",
       "      <td>7.1</td>\n",
       "      <td>2015</td>\n",
       "      <td>1.379999e+08</td>\n",
       "      <td>3.481613e+08</td>\n",
       "    </tr>\n",
       "    <tr>\n",
       "      <th>2</th>\n",
       "      <td>262500</td>\n",
       "      <td>tt2908446</td>\n",
       "      <td>13.112507</td>\n",
       "      <td>110000000</td>\n",
       "      <td>295238201</td>\n",
       "      <td>Insurgent</td>\n",
       "      <td>Shailene Woodley|Theo James|Kate Winslet|Ansel...</td>\n",
       "      <td>http://www.thedivergentseries.movie/#insurgent</td>\n",
       "      <td>Robert Schwentke</td>\n",
       "      <td>One Choice Can Destroy You</td>\n",
       "      <td>...</td>\n",
       "      <td>Beatrice Prior must confront her inner demons ...</td>\n",
       "      <td>119</td>\n",
       "      <td>Adventure|Science Fiction|Thriller</td>\n",
       "      <td>Summit Entertainment|Mandeville Films|Red Wago...</td>\n",
       "      <td>3/18/15</td>\n",
       "      <td>2480</td>\n",
       "      <td>6.3</td>\n",
       "      <td>2015</td>\n",
       "      <td>1.012000e+08</td>\n",
       "      <td>2.716190e+08</td>\n",
       "    </tr>\n",
       "  </tbody>\n",
       "</table>\n",
       "<p>3 rows × 21 columns</p>\n",
       "</div>"
      ],
      "text/plain": [
       "       id    imdb_id  popularity     budget     revenue      original_title  \\\n",
       "0  135397  tt0369610   32.985763  150000000  1513528810      Jurassic World   \n",
       "1   76341  tt1392190   28.419936  150000000   378436354  Mad Max: Fury Road   \n",
       "2  262500  tt2908446   13.112507  110000000   295238201           Insurgent   \n",
       "\n",
       "                                                cast  \\\n",
       "0  Chris Pratt|Bryce Dallas Howard|Irrfan Khan|Vi...   \n",
       "1  Tom Hardy|Charlize Theron|Hugh Keays-Byrne|Nic...   \n",
       "2  Shailene Woodley|Theo James|Kate Winslet|Ansel...   \n",
       "\n",
       "                                         homepage          director  \\\n",
       "0                   http://www.jurassicworld.com/   Colin Trevorrow   \n",
       "1                     http://www.madmaxmovie.com/     George Miller   \n",
       "2  http://www.thedivergentseries.movie/#insurgent  Robert Schwentke   \n",
       "\n",
       "                      tagline  ...  \\\n",
       "0           The park is open.  ...   \n",
       "1          What a Lovely Day.  ...   \n",
       "2  One Choice Can Destroy You  ...   \n",
       "\n",
       "                                            overview runtime  \\\n",
       "0  Twenty-two years after the events of Jurassic ...     124   \n",
       "1  An apocalyptic story set in the furthest reach...     120   \n",
       "2  Beatrice Prior must confront her inner demons ...     119   \n",
       "\n",
       "                                      genres  \\\n",
       "0  Action|Adventure|Science Fiction|Thriller   \n",
       "1  Action|Adventure|Science Fiction|Thriller   \n",
       "2         Adventure|Science Fiction|Thriller   \n",
       "\n",
       "                                production_companies release_date vote_count  \\\n",
       "0  Universal Studios|Amblin Entertainment|Legenda...       6/9/15       5562   \n",
       "1  Village Roadshow Pictures|Kennedy Miller Produ...      5/13/15       6185   \n",
       "2  Summit Entertainment|Mandeville Films|Red Wago...      3/18/15       2480   \n",
       "\n",
       "   vote_average  release_year    budget_adj   revenue_adj  \n",
       "0           6.5          2015  1.379999e+08  1.392446e+09  \n",
       "1           7.1          2015  1.379999e+08  3.481613e+08  \n",
       "2           6.3          2015  1.012000e+08  2.716190e+08  \n",
       "\n",
       "[3 rows x 21 columns]"
      ]
     },
     "execution_count": 3,
     "metadata": {},
     "output_type": "execute_result"
    }
   ],
   "source": [
    "movies.head(3)"
   ]
  },
  {
   "cell_type": "code",
   "execution_count": 4,
   "id": "bcd1cb1b",
   "metadata": {},
   "outputs": [
    {
     "name": "stdout",
     "output_type": "stream",
     "text": [
      "<class 'pandas.core.frame.DataFrame'>\n",
      "RangeIndex: 10866 entries, 0 to 10865\n",
      "Data columns (total 21 columns):\n",
      " #   Column                Non-Null Count  Dtype  \n",
      "---  ------                --------------  -----  \n",
      " 0   id                    10866 non-null  int64  \n",
      " 1   imdb_id               10856 non-null  object \n",
      " 2   popularity            10866 non-null  float64\n",
      " 3   budget                10866 non-null  int64  \n",
      " 4   revenue               10866 non-null  int64  \n",
      " 5   original_title        10866 non-null  object \n",
      " 6   cast                  10790 non-null  object \n",
      " 7   homepage              2936 non-null   object \n",
      " 8   director              10822 non-null  object \n",
      " 9   tagline               8042 non-null   object \n",
      " 10  keywords              9373 non-null   object \n",
      " 11  overview              10862 non-null  object \n",
      " 12  runtime               10866 non-null  int64  \n",
      " 13  genres                10843 non-null  object \n",
      " 14  production_companies  9836 non-null   object \n",
      " 15  release_date          10866 non-null  object \n",
      " 16  vote_count            10866 non-null  int64  \n",
      " 17  vote_average          10866 non-null  float64\n",
      " 18  release_year          10866 non-null  int64  \n",
      " 19  budget_adj            10866 non-null  float64\n",
      " 20  revenue_adj           10866 non-null  float64\n",
      "dtypes: float64(4), int64(6), object(11)\n",
      "memory usage: 1.7+ MB\n"
     ]
    }
   ],
   "source": [
    "movies.info()"
   ]
  },
  {
   "cell_type": "code",
   "execution_count": 5,
   "id": "424d89b6",
   "metadata": {},
   "outputs": [],
   "source": [
    "movies[\"release_date\"] = pd.to_datetime(movies[\"release_date\"])"
   ]
  },
  {
   "cell_type": "code",
   "execution_count": 6,
   "id": "02cdf3e8",
   "metadata": {},
   "outputs": [
    {
     "name": "stdout",
     "output_type": "stream",
     "text": [
      "<class 'pandas.core.frame.DataFrame'>\n",
      "RangeIndex: 10866 entries, 0 to 10865\n",
      "Data columns (total 21 columns):\n",
      " #   Column                Non-Null Count  Dtype         \n",
      "---  ------                --------------  -----         \n",
      " 0   id                    10866 non-null  int64         \n",
      " 1   imdb_id               10856 non-null  object        \n",
      " 2   popularity            10866 non-null  float64       \n",
      " 3   budget                10866 non-null  int64         \n",
      " 4   revenue               10866 non-null  int64         \n",
      " 5   original_title        10866 non-null  object        \n",
      " 6   cast                  10790 non-null  object        \n",
      " 7   homepage              2936 non-null   object        \n",
      " 8   director              10822 non-null  object        \n",
      " 9   tagline               8042 non-null   object        \n",
      " 10  keywords              9373 non-null   object        \n",
      " 11  overview              10862 non-null  object        \n",
      " 12  runtime               10866 non-null  int64         \n",
      " 13  genres                10843 non-null  object        \n",
      " 14  production_companies  9836 non-null   object        \n",
      " 15  release_date          10866 non-null  datetime64[ns]\n",
      " 16  vote_count            10866 non-null  int64         \n",
      " 17  vote_average          10866 non-null  float64       \n",
      " 18  release_year          10866 non-null  int64         \n",
      " 19  budget_adj            10866 non-null  float64       \n",
      " 20  revenue_adj           10866 non-null  float64       \n",
      "dtypes: datetime64[ns](1), float64(4), int64(6), object(10)\n",
      "memory usage: 1.7+ MB\n"
     ]
    }
   ],
   "source": [
    "movies.info()"
   ]
  },
  {
   "cell_type": "code",
   "execution_count": 7,
   "id": "7b7ed00e",
   "metadata": {},
   "outputs": [
    {
     "data": {
      "text/plain": [
       "(10866, 21)"
      ]
     },
     "execution_count": 7,
     "metadata": {},
     "output_type": "execute_result"
    }
   ],
   "source": [
    "movies.shape"
   ]
  },
  {
   "cell_type": "code",
   "execution_count": 8,
   "id": "a4f07091",
   "metadata": {},
   "outputs": [
    {
     "data": {
      "text/html": [
       "<div>\n",
       "<style scoped>\n",
       "    .dataframe tbody tr th:only-of-type {\n",
       "        vertical-align: middle;\n",
       "    }\n",
       "\n",
       "    .dataframe tbody tr th {\n",
       "        vertical-align: top;\n",
       "    }\n",
       "\n",
       "    .dataframe thead th {\n",
       "        text-align: right;\n",
       "    }\n",
       "</style>\n",
       "<table border=\"1\" class=\"dataframe\">\n",
       "  <thead>\n",
       "    <tr style=\"text-align: right;\">\n",
       "      <th></th>\n",
       "      <th>id</th>\n",
       "      <th>imdb_id</th>\n",
       "      <th>popularity</th>\n",
       "      <th>budget</th>\n",
       "      <th>revenue</th>\n",
       "      <th>original_title</th>\n",
       "      <th>cast</th>\n",
       "      <th>homepage</th>\n",
       "      <th>director</th>\n",
       "      <th>tagline</th>\n",
       "      <th>...</th>\n",
       "      <th>overview</th>\n",
       "      <th>runtime</th>\n",
       "      <th>genres</th>\n",
       "      <th>production_companies</th>\n",
       "      <th>release_date</th>\n",
       "      <th>vote_count</th>\n",
       "      <th>vote_average</th>\n",
       "      <th>release_year</th>\n",
       "      <th>budget_adj</th>\n",
       "      <th>revenue_adj</th>\n",
       "    </tr>\n",
       "  </thead>\n",
       "  <tbody>\n",
       "    <tr>\n",
       "      <th>7300</th>\n",
       "      <td>33638</td>\n",
       "      <td>tt0068853</td>\n",
       "      <td>0.130781</td>\n",
       "      <td>0</td>\n",
       "      <td>0</td>\n",
       "      <td>The Life and Times of Judge Roy Bean</td>\n",
       "      <td>Paul Newman|Jacqueline Bisset|Ned Beatty|Antho...</td>\n",
       "      <td>NaN</td>\n",
       "      <td>John Huston</td>\n",
       "      <td>If this story ain't true... it shoulda been!</td>\n",
       "      <td>...</td>\n",
       "      <td>Outlaw and self-appointed lawmaker, Judge Roy ...</td>\n",
       "      <td>120</td>\n",
       "      <td>Action|Comedy|Western</td>\n",
       "      <td>First Artists|National General Pictures</td>\n",
       "      <td>1972-12-18</td>\n",
       "      <td>11</td>\n",
       "      <td>6.0</td>\n",
       "      <td>1972</td>\n",
       "      <td>0.000000e+00</td>\n",
       "      <td>0.000000e+00</td>\n",
       "    </tr>\n",
       "    <tr>\n",
       "      <th>4799</th>\n",
       "      <td>117978</td>\n",
       "      <td>tt1790869</td>\n",
       "      <td>0.213853</td>\n",
       "      <td>4000000</td>\n",
       "      <td>0</td>\n",
       "      <td>In Their Skin</td>\n",
       "      <td>Selma Blair|Joshua Close|James D'Arcy|Rachel M...</td>\n",
       "      <td>NaN</td>\n",
       "      <td>Jeremy Power Regimbal</td>\n",
       "      <td>Yours is the life they've chosen.</td>\n",
       "      <td>...</td>\n",
       "      <td>A couple and their young son retreat to their ...</td>\n",
       "      <td>96</td>\n",
       "      <td>Thriller|Horror</td>\n",
       "      <td>Kinosmith|Sepia Films</td>\n",
       "      <td>2012-07-08</td>\n",
       "      <td>20</td>\n",
       "      <td>5.2</td>\n",
       "      <td>2012</td>\n",
       "      <td>3.798977e+06</td>\n",
       "      <td>0.000000e+00</td>\n",
       "    </tr>\n",
       "    <tr>\n",
       "      <th>7159</th>\n",
       "      <td>8080</td>\n",
       "      <td>tt0324127</td>\n",
       "      <td>0.308525</td>\n",
       "      <td>27000000</td>\n",
       "      <td>13000000</td>\n",
       "      <td>Suspect Zero</td>\n",
       "      <td>Carrie-Anne Moss|Aaron Eckhart|Ben Kingsley|Ha...</td>\n",
       "      <td>NaN</td>\n",
       "      <td>E. Elias Merhige</td>\n",
       "      <td>Who's next?</td>\n",
       "      <td>...</td>\n",
       "      <td>A killer is on the loose, and an FBI agent sif...</td>\n",
       "      <td>99</td>\n",
       "      <td>Crime|Thriller</td>\n",
       "      <td>Paramount Pictures|Cruise/Wagner Productions|L...</td>\n",
       "      <td>2004-08-27</td>\n",
       "      <td>42</td>\n",
       "      <td>5.1</td>\n",
       "      <td>2004</td>\n",
       "      <td>3.117003e+07</td>\n",
       "      <td>1.500779e+07</td>\n",
       "    </tr>\n",
       "  </tbody>\n",
       "</table>\n",
       "<p>3 rows × 21 columns</p>\n",
       "</div>"
      ],
      "text/plain": [
       "          id    imdb_id  popularity    budget   revenue  \\\n",
       "7300   33638  tt0068853    0.130781         0         0   \n",
       "4799  117978  tt1790869    0.213853   4000000         0   \n",
       "7159    8080  tt0324127    0.308525  27000000  13000000   \n",
       "\n",
       "                            original_title  \\\n",
       "7300  The Life and Times of Judge Roy Bean   \n",
       "4799                         In Their Skin   \n",
       "7159                          Suspect Zero   \n",
       "\n",
       "                                                   cast homepage  \\\n",
       "7300  Paul Newman|Jacqueline Bisset|Ned Beatty|Antho...      NaN   \n",
       "4799  Selma Blair|Joshua Close|James D'Arcy|Rachel M...      NaN   \n",
       "7159  Carrie-Anne Moss|Aaron Eckhart|Ben Kingsley|Ha...      NaN   \n",
       "\n",
       "                   director                                       tagline  \\\n",
       "7300            John Huston  If this story ain't true... it shoulda been!   \n",
       "4799  Jeremy Power Regimbal             Yours is the life they've chosen.   \n",
       "7159       E. Elias Merhige                                   Who's next?   \n",
       "\n",
       "      ...                                           overview runtime  \\\n",
       "7300  ...  Outlaw and self-appointed lawmaker, Judge Roy ...     120   \n",
       "4799  ...  A couple and their young son retreat to their ...      96   \n",
       "7159  ...  A killer is on the loose, and an FBI agent sif...      99   \n",
       "\n",
       "                     genres  \\\n",
       "7300  Action|Comedy|Western   \n",
       "4799        Thriller|Horror   \n",
       "7159         Crime|Thriller   \n",
       "\n",
       "                                   production_companies release_date  \\\n",
       "7300            First Artists|National General Pictures   1972-12-18   \n",
       "4799                              Kinosmith|Sepia Films   2012-07-08   \n",
       "7159  Paramount Pictures|Cruise/Wagner Productions|L...   2004-08-27   \n",
       "\n",
       "     vote_count  vote_average  release_year    budget_adj   revenue_adj  \n",
       "7300         11           6.0          1972  0.000000e+00  0.000000e+00  \n",
       "4799         20           5.2          2012  3.798977e+06  0.000000e+00  \n",
       "7159         42           5.1          2004  3.117003e+07  1.500779e+07  \n",
       "\n",
       "[3 rows x 21 columns]"
      ]
     },
     "execution_count": 8,
     "metadata": {},
     "output_type": "execute_result"
    }
   ],
   "source": [
    "movies.sample(3)"
   ]
  },
  {
   "cell_type": "code",
   "execution_count": 9,
   "id": "22619959",
   "metadata": {},
   "outputs": [
    {
     "data": {
      "text/plain": [
       "['id',\n",
       " 'imdb_id',\n",
       " 'popularity',\n",
       " 'budget',\n",
       " 'revenue',\n",
       " 'original_title',\n",
       " 'cast',\n",
       " 'homepage',\n",
       " 'director',\n",
       " 'tagline',\n",
       " 'keywords',\n",
       " 'overview',\n",
       " 'runtime',\n",
       " 'genres',\n",
       " 'production_companies',\n",
       " 'release_date',\n",
       " 'vote_count',\n",
       " 'vote_average',\n",
       " 'release_year',\n",
       " 'budget_adj',\n",
       " 'revenue_adj']"
      ]
     },
     "execution_count": 9,
     "metadata": {},
     "output_type": "execute_result"
    }
   ],
   "source": [
    "movies.columns.to_list()"
   ]
  },
  {
   "cell_type": "markdown",
   "id": "24e4e315",
   "metadata": {},
   "source": [
    "#### PLotting a bar graph to compare budget and revenue before cleaning"
   ]
  },
  {
   "cell_type": "code",
   "execution_count": 10,
   "id": "6fdc5cd6",
   "metadata": {},
   "outputs": [
    {
     "data": {
      "text/html": [
       "<div>\n",
       "<style scoped>\n",
       "    .dataframe tbody tr th:only-of-type {\n",
       "        vertical-align: middle;\n",
       "    }\n",
       "\n",
       "    .dataframe tbody tr th {\n",
       "        vertical-align: top;\n",
       "    }\n",
       "\n",
       "    .dataframe thead th {\n",
       "        text-align: right;\n",
       "    }\n",
       "</style>\n",
       "<table border=\"1\" class=\"dataframe\">\n",
       "  <thead>\n",
       "    <tr style=\"text-align: right;\">\n",
       "      <th></th>\n",
       "      <th>revenue</th>\n",
       "      <th>budget</th>\n",
       "    </tr>\n",
       "  </thead>\n",
       "  <tbody>\n",
       "    <tr>\n",
       "      <th>0</th>\n",
       "      <td>432720192875</td>\n",
       "      <td>158922868089</td>\n",
       "    </tr>\n",
       "  </tbody>\n",
       "</table>\n",
       "</div>"
      ],
      "text/plain": [
       "        revenue        budget\n",
       "0  432720192875  158922868089"
      ]
     },
     "execution_count": 10,
     "metadata": {},
     "output_type": "execute_result"
    }
   ],
   "source": [
    "comp = pd.DataFrame({\"revenue\": [movies.revenue.sum()],\n",
    "         'budget': [movies.budget.sum()]})\n",
    "comp"
   ]
  },
  {
   "cell_type": "code",
   "execution_count": 11,
   "id": "f2f3c967",
   "metadata": {},
   "outputs": [
    {
     "data": {
      "text/plain": [
       "<AxesSubplot:>"
      ]
     },
     "execution_count": 11,
     "metadata": {},
     "output_type": "execute_result"
    },
    {
     "data": {
      "image/png": "[encoded data removed]",
      "text/plain": [
       "<Figure size 432x288 with 1 Axes>"
      ]
     },
     "metadata": {
      "needs_background": "light"
     },
     "output_type": "display_data"
    }
   ],
   "source": [
    "comp.plot(kind = 'bar')"
   ]
  },
  {
   "cell_type": "markdown",
   "id": "ebda64f9",
   "metadata": {},
   "source": [
    "### Data Cleaning"
   ]
  },
  {
   "cell_type": "code",
   "execution_count": 12,
   "id": "a45ea3da",
   "metadata": {},
   "outputs": [
    {
     "data": {
      "text/plain": [
       "1"
      ]
     },
     "execution_count": 12,
     "metadata": {},
     "output_type": "execute_result"
    }
   ],
   "source": [
    "movies.duplicated().sum()"
   ]
  },
  {
   "cell_type": "code",
   "execution_count": 13,
   "id": "0a506b44",
   "metadata": {},
   "outputs": [],
   "source": [
    "movies.drop_duplicates(inplace =True)"
   ]
  },
  {
   "cell_type": "code",
   "execution_count": 14,
   "id": "5d098606",
   "metadata": {},
   "outputs": [
    {
     "name": "stdout",
     "output_type": "stream",
     "text": [
      "Missing values for each column: \n",
      "imdb_id                   10.0\n",
      "cast                      76.0\n",
      "homepage                7929.0\n",
      "director                  44.0\n",
      "tagline                 2824.0\n",
      "keywords                1493.0\n",
      "overview                   4.0\n",
      "genres                    23.0\n",
      "production_companies    1030.0\n",
      "dtype: float64\n"
     ]
    }
   ],
   "source": [
    "def missing_values(x):\n",
    "    return (sum(x.isna()))\n",
    "print(\"Missing values for each column: \")\n",
    "\n",
    "print(movies.apply(missing_values).where(lambda x:x!=0).dropna())"
   ]
  },
  {
   "cell_type": "code",
   "execution_count": 15,
   "id": "2d20b61a",
   "metadata": {},
   "outputs": [
    {
     "data": {
      "text/html": [
       "<div>\n",
       "<style scoped>\n",
       "    .dataframe tbody tr th:only-of-type {\n",
       "        vertical-align: middle;\n",
       "    }\n",
       "\n",
       "    .dataframe tbody tr th {\n",
       "        vertical-align: top;\n",
       "    }\n",
       "\n",
       "    .dataframe thead th {\n",
       "        text-align: right;\n",
       "    }\n",
       "</style>\n",
       "<table border=\"1\" class=\"dataframe\">\n",
       "  <thead>\n",
       "    <tr style=\"text-align: right;\">\n",
       "      <th></th>\n",
       "      <th>popularity</th>\n",
       "      <th>budget</th>\n",
       "      <th>revenue</th>\n",
       "      <th>original_title</th>\n",
       "      <th>director</th>\n",
       "      <th>keywords</th>\n",
       "      <th>overview</th>\n",
       "      <th>runtime</th>\n",
       "      <th>genres</th>\n",
       "      <th>production_companies</th>\n",
       "      <th>release_date</th>\n",
       "      <th>vote_average</th>\n",
       "      <th>release_year</th>\n",
       "      <th>budget_adj</th>\n",
       "      <th>revenue_adj</th>\n",
       "    </tr>\n",
       "  </thead>\n",
       "  <tbody>\n",
       "    <tr>\n",
       "      <th>2837</th>\n",
       "      <td>0.189393</td>\n",
       "      <td>7000000</td>\n",
       "      <td>3646994</td>\n",
       "      <td>The Cat's Meow</td>\n",
       "      <td>Peter Bogdanovich</td>\n",
       "      <td>sex|blackmail|yacht|kiss|party</td>\n",
       "      <td>Semi-true story of the Hollywood murder that o...</td>\n",
       "      <td>114</td>\n",
       "      <td>Drama|Mystery|Thriller</td>\n",
       "      <td>Lions Gate Films|Dan Films|CP Medien AG</td>\n",
       "      <td>2001-08-03</td>\n",
       "      <td>5.7</td>\n",
       "      <td>2001</td>\n",
       "      <td>8.620417e+06</td>\n",
       "      <td>4.491230e+06</td>\n",
       "    </tr>\n",
       "    <tr>\n",
       "      <th>3544</th>\n",
       "      <td>0.656612</td>\n",
       "      <td>25000000</td>\n",
       "      <td>34942188</td>\n",
       "      <td>The Sitter</td>\n",
       "      <td>David Gordon Green</td>\n",
       "      <td>babysitting|duringcreditsstinger</td>\n",
       "      <td>Noah, is not your typical entertain-the-kids-n...</td>\n",
       "      <td>81</td>\n",
       "      <td>Comedy</td>\n",
       "      <td>Twentieth Century Fox Film Corporation</td>\n",
       "      <td>2011-12-09</td>\n",
       "      <td>5.4</td>\n",
       "      <td>2011</td>\n",
       "      <td>2.423495e+07</td>\n",
       "      <td>3.387289e+07</td>\n",
       "    </tr>\n",
       "  </tbody>\n",
       "</table>\n",
       "</div>"
      ],
      "text/plain": [
       "      popularity    budget   revenue  original_title            director  \\\n",
       "2837    0.189393   7000000   3646994  The Cat's Meow   Peter Bogdanovich   \n",
       "3544    0.656612  25000000  34942188      The Sitter  David Gordon Green   \n",
       "\n",
       "                              keywords  \\\n",
       "2837    sex|blackmail|yacht|kiss|party   \n",
       "3544  babysitting|duringcreditsstinger   \n",
       "\n",
       "                                               overview  runtime  \\\n",
       "2837  Semi-true story of the Hollywood murder that o...      114   \n",
       "3544  Noah, is not your typical entertain-the-kids-n...       81   \n",
       "\n",
       "                      genres                     production_companies  \\\n",
       "2837  Drama|Mystery|Thriller  Lions Gate Films|Dan Films|CP Medien AG   \n",
       "3544                  Comedy   Twentieth Century Fox Film Corporation   \n",
       "\n",
       "     release_date  vote_average  release_year    budget_adj   revenue_adj  \n",
       "2837   2001-08-03           5.7          2001  8.620417e+06  4.491230e+06  \n",
       "3544   2011-12-09           5.4          2011  2.423495e+07  3.387289e+07  "
      ]
     },
     "execution_count": 15,
     "metadata": {},
     "output_type": "execute_result"
    }
   ],
   "source": [
    "# Delete unwanted columns\n",
    "movies.drop(['homepage','tagline','imdb_id','id', 'cast', 'vote_count'], axis =1, inplace=True)\n",
    "movies.sample(2)"
   ]
  },
  {
   "cell_type": "code",
   "execution_count": 16,
   "id": "14519420",
   "metadata": {},
   "outputs": [
    {
     "data": {
      "text/html": [
       "<div>\n",
       "<style scoped>\n",
       "    .dataframe tbody tr th:only-of-type {\n",
       "        vertical-align: middle;\n",
       "    }\n",
       "\n",
       "    .dataframe tbody tr th {\n",
       "        vertical-align: top;\n",
       "    }\n",
       "\n",
       "    .dataframe thead th {\n",
       "        text-align: right;\n",
       "    }\n",
       "</style>\n",
       "<table border=\"1\" class=\"dataframe\">\n",
       "  <thead>\n",
       "    <tr style=\"text-align: right;\">\n",
       "      <th></th>\n",
       "      <th>popularity</th>\n",
       "      <th>budget</th>\n",
       "      <th>revenue</th>\n",
       "      <th>runtime</th>\n",
       "      <th>vote_average</th>\n",
       "      <th>release_year</th>\n",
       "      <th>budget_adj</th>\n",
       "      <th>revenue_adj</th>\n",
       "    </tr>\n",
       "  </thead>\n",
       "  <tbody>\n",
       "    <tr>\n",
       "      <th>count</th>\n",
       "      <td>10865.000000</td>\n",
       "      <td>1.086500e+04</td>\n",
       "      <td>1.086500e+04</td>\n",
       "      <td>10865.000000</td>\n",
       "      <td>10865.000000</td>\n",
       "      <td>10865.000000</td>\n",
       "      <td>1.086500e+04</td>\n",
       "      <td>1.086500e+04</td>\n",
       "    </tr>\n",
       "    <tr>\n",
       "      <th>mean</th>\n",
       "      <td>0.646446</td>\n",
       "      <td>1.462429e+07</td>\n",
       "      <td>3.982690e+07</td>\n",
       "      <td>102.071790</td>\n",
       "      <td>5.975012</td>\n",
       "      <td>2001.321859</td>\n",
       "      <td>1.754989e+07</td>\n",
       "      <td>5.136900e+07</td>\n",
       "    </tr>\n",
       "    <tr>\n",
       "      <th>std</th>\n",
       "      <td>1.000231</td>\n",
       "      <td>3.091428e+07</td>\n",
       "      <td>1.170083e+08</td>\n",
       "      <td>31.382701</td>\n",
       "      <td>0.935138</td>\n",
       "      <td>12.813260</td>\n",
       "      <td>3.430753e+07</td>\n",
       "      <td>1.446383e+08</td>\n",
       "    </tr>\n",
       "    <tr>\n",
       "      <th>min</th>\n",
       "      <td>0.000065</td>\n",
       "      <td>0.000000e+00</td>\n",
       "      <td>0.000000e+00</td>\n",
       "      <td>0.000000</td>\n",
       "      <td>1.500000</td>\n",
       "      <td>1960.000000</td>\n",
       "      <td>0.000000e+00</td>\n",
       "      <td>0.000000e+00</td>\n",
       "    </tr>\n",
       "    <tr>\n",
       "      <th>25%</th>\n",
       "      <td>0.207575</td>\n",
       "      <td>0.000000e+00</td>\n",
       "      <td>0.000000e+00</td>\n",
       "      <td>90.000000</td>\n",
       "      <td>5.400000</td>\n",
       "      <td>1995.000000</td>\n",
       "      <td>0.000000e+00</td>\n",
       "      <td>0.000000e+00</td>\n",
       "    </tr>\n",
       "    <tr>\n",
       "      <th>50%</th>\n",
       "      <td>0.383831</td>\n",
       "      <td>0.000000e+00</td>\n",
       "      <td>0.000000e+00</td>\n",
       "      <td>99.000000</td>\n",
       "      <td>6.000000</td>\n",
       "      <td>2006.000000</td>\n",
       "      <td>0.000000e+00</td>\n",
       "      <td>0.000000e+00</td>\n",
       "    </tr>\n",
       "    <tr>\n",
       "      <th>75%</th>\n",
       "      <td>0.713857</td>\n",
       "      <td>1.500000e+07</td>\n",
       "      <td>2.400000e+07</td>\n",
       "      <td>111.000000</td>\n",
       "      <td>6.600000</td>\n",
       "      <td>2011.000000</td>\n",
       "      <td>2.085325e+07</td>\n",
       "      <td>3.370173e+07</td>\n",
       "    </tr>\n",
       "    <tr>\n",
       "      <th>max</th>\n",
       "      <td>32.985763</td>\n",
       "      <td>4.250000e+08</td>\n",
       "      <td>2.781506e+09</td>\n",
       "      <td>900.000000</td>\n",
       "      <td>9.200000</td>\n",
       "      <td>2015.000000</td>\n",
       "      <td>4.250000e+08</td>\n",
       "      <td>2.827124e+09</td>\n",
       "    </tr>\n",
       "  </tbody>\n",
       "</table>\n",
       "</div>"
      ],
      "text/plain": [
       "         popularity        budget       revenue       runtime  vote_average  \\\n",
       "count  10865.000000  1.086500e+04  1.086500e+04  10865.000000  10865.000000   \n",
       "mean       0.646446  1.462429e+07  3.982690e+07    102.071790      5.975012   \n",
       "std        1.000231  3.091428e+07  1.170083e+08     31.382701      0.935138   \n",
       "min        0.000065  0.000000e+00  0.000000e+00      0.000000      1.500000   \n",
       "25%        0.207575  0.000000e+00  0.000000e+00     90.000000      5.400000   \n",
       "50%        0.383831  0.000000e+00  0.000000e+00     99.000000      6.000000   \n",
       "75%        0.713857  1.500000e+07  2.400000e+07    111.000000      6.600000   \n",
       "max       32.985763  4.250000e+08  2.781506e+09    900.000000      9.200000   \n",
       "\n",
       "       release_year    budget_adj   revenue_adj  \n",
       "count  10865.000000  1.086500e+04  1.086500e+04  \n",
       "mean    2001.321859  1.754989e+07  5.136900e+07  \n",
       "std       12.813260  3.430753e+07  1.446383e+08  \n",
       "min     1960.000000  0.000000e+00  0.000000e+00  \n",
       "25%     1995.000000  0.000000e+00  0.000000e+00  \n",
       "50%     2006.000000  0.000000e+00  0.000000e+00  \n",
       "75%     2011.000000  2.085325e+07  3.370173e+07  \n",
       "max     2015.000000  4.250000e+08  2.827124e+09  "
      ]
     },
     "execution_count": 16,
     "metadata": {},
     "output_type": "execute_result"
    }
   ],
   "source": [
    "movies.describe()"
   ]
  },
  {
   "cell_type": "code",
   "execution_count": 17,
   "id": "407d7a59",
   "metadata": {},
   "outputs": [],
   "source": [
    "#Remove columns with zero values\n",
    "movies.drop(movies[movies.revenue == 0].index , inplace =True)\n",
    "movies.drop(movies[movies.budget == 0].index , inplace =True)"
   ]
  },
  {
   "cell_type": "code",
   "execution_count": 18,
   "id": "2d73c7fd",
   "metadata": {},
   "outputs": [
    {
     "name": "stdout",
     "output_type": "stream",
     "text": [
      "2\n",
      "1\n"
     ]
    }
   ],
   "source": [
    "print(movies.revenue.min())\n",
    "print(movies.budget.min())"
   ]
  },
  {
   "cell_type": "code",
   "execution_count": 19,
   "id": "e491bdcb",
   "metadata": {},
   "outputs": [],
   "source": [
    "movies.fillna({'keywords' : 'movies.keywords.mode()', 'director' : \"Other directors\", 'production_companies' : 'Other'},\n",
    "              inplace = True)"
   ]
  },
  {
   "cell_type": "code",
   "execution_count": 20,
   "id": "ea170f0f",
   "metadata": {},
   "outputs": [
    {
     "data": {
      "text/plain": [
       "popularity              0\n",
       "budget                  0\n",
       "revenue                 0\n",
       "original_title          0\n",
       "director                0\n",
       "keywords                0\n",
       "overview                0\n",
       "runtime                 0\n",
       "genres                  0\n",
       "production_companies    0\n",
       "release_date            0\n",
       "vote_average            0\n",
       "release_year            0\n",
       "budget_adj              0\n",
       "revenue_adj             0\n",
       "dtype: int64"
      ]
     },
     "execution_count": 20,
     "metadata": {},
     "output_type": "execute_result"
    }
   ],
   "source": [
    "movies.isna().sum()"
   ]
  },
  {
   "cell_type": "code",
   "execution_count": 21,
   "id": "a46d819e",
   "metadata": {},
   "outputs": [],
   "source": [
    "Gs = movies.genres.str.split(\"|\" , n=1 , expand = True)\n",
    "kw = movies.keywords.str.split(\"|\",n=1, expand = True)\n",
    "ot = movies.original_title.str.split(\"|\", n=1, expand =True)\n",
    "pc = movies.production_companies.str.split(\"|\", n= 1, expand = True)"
   ]
  },
  {
   "cell_type": "code",
   "execution_count": 22,
   "id": "6d8437df",
   "metadata": {},
   "outputs": [],
   "source": [
    "movies[\"Genres\"] = Gs[0]\n",
    "movies[\"Keywords\"] = kw[0]\n",
    "movies[\"Original_title\"] = ot[0]\n",
    "movies[\"Production_companies\"] = pc[0]"
   ]
  },
  {
   "cell_type": "code",
   "execution_count": 23,
   "id": "0c2122de",
   "metadata": {},
   "outputs": [
    {
     "data": {
      "text/plain": [
       "Index(['popularity', 'budget', 'revenue', 'original_title', 'director',\n",
       "       'keywords', 'overview', 'runtime', 'genres', 'production_companies',\n",
       "       'release_date', 'vote_average', 'release_year', 'budget_adj',\n",
       "       'revenue_adj', 'Genres', 'Keywords', 'Original_title',\n",
       "       'Production_companies'],\n",
       "      dtype='object')"
      ]
     },
     "execution_count": 23,
     "metadata": {},
     "output_type": "execute_result"
    }
   ],
   "source": [
    "movies.columns"
   ]
  },
  {
   "cell_type": "code",
   "execution_count": 24,
   "id": "93294ae8",
   "metadata": {},
   "outputs": [],
   "source": [
    "movies.drop(columns =['original_title','keywords','production_companies','genres'], inplace =True)"
   ]
  },
  {
   "cell_type": "code",
   "execution_count": 25,
   "id": "b186c90a",
   "metadata": {},
   "outputs": [
    {
     "data": {
      "text/plain": [
       "['popularity',\n",
       " 'budget',\n",
       " 'revenue',\n",
       " 'director',\n",
       " 'overview',\n",
       " 'runtime',\n",
       " 'release_date',\n",
       " 'vote_average',\n",
       " 'release_year',\n",
       " 'budget_adj',\n",
       " 'revenue_adj',\n",
       " 'Genres',\n",
       " 'Keywords',\n",
       " 'Original_title',\n",
       " 'Production_companies']"
      ]
     },
     "execution_count": 25,
     "metadata": {},
     "output_type": "execute_result"
    }
   ],
   "source": [
    "movies.columns.to_list()"
   ]
  },
  {
   "cell_type": "code",
   "execution_count": 26,
   "id": "1ad96ce6",
   "metadata": {},
   "outputs": [
    {
     "data": {
      "text/plain": [
       "(3854, 15)"
      ]
     },
     "execution_count": 26,
     "metadata": {},
     "output_type": "execute_result"
    }
   ],
   "source": [
    "movies.shape"
   ]
  },
  {
   "cell_type": "markdown",
   "id": "9d7066a0",
   "metadata": {},
   "source": [
    "### Plotting a bar graph to compare revenue and budget after cleaning(Removing columns with zero)"
   ]
  },
  {
   "cell_type": "code",
   "execution_count": 27,
   "id": "3ef8058b",
   "metadata": {},
   "outputs": [
    {
     "data": {
      "text/html": [
       "<div>\n",
       "<style scoped>\n",
       "    .dataframe tbody tr th:only-of-type {\n",
       "        vertical-align: middle;\n",
       "    }\n",
       "\n",
       "    .dataframe tbody tr th {\n",
       "        vertical-align: top;\n",
       "    }\n",
       "\n",
       "    .dataframe thead th {\n",
       "        text-align: right;\n",
       "    }\n",
       "</style>\n",
       "<table border=\"1\" class=\"dataframe\">\n",
       "  <thead>\n",
       "    <tr style=\"text-align: right;\">\n",
       "      <th></th>\n",
       "      <th>revenue</th>\n",
       "      <th>budget</th>\n",
       "    </tr>\n",
       "  </thead>\n",
       "  <tbody>\n",
       "    <tr>\n",
       "      <th>0</th>\n",
       "      <td>415024218442</td>\n",
       "      <td>143383048064</td>\n",
       "    </tr>\n",
       "  </tbody>\n",
       "</table>\n",
       "</div>"
      ],
      "text/plain": [
       "        revenue        budget\n",
       "0  415024218442  143383048064"
      ]
     },
     "execution_count": 27,
     "metadata": {},
     "output_type": "execute_result"
    }
   ],
   "source": [
    "com = pd.DataFrame({\"revenue\": [movies.revenue.sum()],\n",
    "         'budget': [movies.budget.sum()]})\n",
    "com"
   ]
  },
  {
   "cell_type": "code",
   "execution_count": 28,
   "id": "ffdf1070",
   "metadata": {},
   "outputs": [
    {
     "data": {
      "text/plain": [
       "<AxesSubplot:>"
      ]
     },
     "execution_count": 28,
     "metadata": {},
     "output_type": "execute_result"
    },
    {
     "data": {
      "image/png": "[encoded data removed]",
      "text/plain": [
       "<Figure size 432x288 with 1 Axes>"
      ]
     },
     "metadata": {
      "needs_background": "light"
     },
     "output_type": "display_data"
    }
   ],
   "source": [
    "com.plot(kind = 'bar')"
   ]
  },
  {
   "cell_type": "markdown",
   "id": "07709001",
   "metadata": {},
   "source": [
    "Removing rows with 0 budget and revenue values does not greatly affect our analysis \n",
    "thus we proceed to Exploratory Data Analysis"
   ]
  },
  {
   "cell_type": "markdown",
   "id": "98fa33a3",
   "metadata": {},
   "source": [
    "### EDA"
   ]
  },
  {
   "cell_type": "markdown",
   "id": "b4396841",
   "metadata": {},
   "source": [
    "#### General Analysis"
   ]
  },
  {
   "cell_type": "code",
   "execution_count": 29,
   "id": "6667987b",
   "metadata": {},
   "outputs": [
    {
     "name": "stdout",
     "output_type": "stream",
     "text": [
      "Movies analyzed:  3854\n"
     ]
    }
   ],
   "source": [
    "#Total number of movies\n",
    "all =len(movies.Original_title)\n",
    "print(\"Movies analyzed: \", all)"
   ]
  },
  {
   "cell_type": "code",
   "execution_count": 30,
   "id": "cb427030",
   "metadata": {},
   "outputs": [
    {
     "name": "stdout",
     "output_type": "stream",
     "text": [
      "Total budget is:  143,383,048,064\n"
     ]
    }
   ],
   "source": [
    "# Total Budget\n",
    "Total_budget = movies.budget.sum()\n",
    "print(\"Total budget is: {: ,}\".format(Total_budget))"
   ]
  },
  {
   "cell_type": "code",
   "execution_count": 31,
   "id": "ff3c7d63",
   "metadata": {},
   "outputs": [
    {
     "name": "stdout",
     "output_type": "stream",
     "text": [
      "Revenue generated is: 415,024,218,442\n"
     ]
    }
   ],
   "source": [
    "# Total revenue generated\n",
    "Total_revenue = movies.revenue.sum()\n",
    "print(\"Revenue generated is: {:,}\".format(Total_revenue))"
   ]
  },
  {
   "cell_type": "code",
   "execution_count": 32,
   "id": "8c379308",
   "metadata": {},
   "outputs": [
    {
     "name": "stdout",
     "output_type": "stream",
     "text": [
      "Total profit is: 271,641,170,378\n"
     ]
    }
   ],
   "source": [
    "#Profit\n",
    "Total_profit = Total_revenue - Total_budget\n",
    "print(\"Total profit is: {:,}\".format(Total_profit))"
   ]
  },
  {
   "cell_type": "code",
   "execution_count": 33,
   "id": "bd00fe72",
   "metadata": {},
   "outputs": [
    {
     "data": {
      "text/plain": [
       "0    Jurassic World\n",
       "Name: Original_title, dtype: object"
      ]
     },
     "execution_count": 33,
     "metadata": {},
     "output_type": "execute_result"
    }
   ],
   "source": [
    "#Most Popular Movie\n",
    "hp_movie = movies.popularity.max()\n",
    "movies.loc[movies.popularity == hp_movie, 'Original_title']"
   ]
  },
  {
   "cell_type": "code",
   "execution_count": 34,
   "id": "fd800a1a",
   "metadata": {},
   "outputs": [
    {
     "data": {
      "text/plain": [
       "0    Twenty-two years after the events of Jurassic ...\n",
       "Name: overview, dtype: object"
      ]
     },
     "execution_count": 34,
     "metadata": {},
     "output_type": "execute_result"
    }
   ],
   "source": [
    "# An overview of the most popular movie\n",
    "movies.loc[movies.Original_title == 'Jurassic World', 'overview']"
   ]
  },
  {
   "cell_type": "code",
   "execution_count": 35,
   "id": "00e929cb",
   "metadata": {},
   "outputs": [
    {
     "data": {
      "text/plain": [
       "109.22"
      ]
     },
     "execution_count": 35,
     "metadata": {},
     "output_type": "execute_result"
    }
   ],
   "source": [
    "# Average runtime\n",
    "round(movies.runtime.mean(),2)"
   ]
  },
  {
   "cell_type": "markdown",
   "id": "66414d84",
   "metadata": {},
   "source": [
    "#### Movie analysis by budget and Profit"
   ]
  },
  {
   "cell_type": "code",
   "execution_count": 36,
   "id": "0b17d55f",
   "metadata": {},
   "outputs": [
    {
     "data": {
      "text/html": [
       "<div>\n",
       "<style scoped>\n",
       "    .dataframe tbody tr th:only-of-type {\n",
       "        vertical-align: middle;\n",
       "    }\n",
       "\n",
       "    .dataframe tbody tr th {\n",
       "        vertical-align: top;\n",
       "    }\n",
       "\n",
       "    .dataframe thead th {\n",
       "        text-align: right;\n",
       "    }\n",
       "</style>\n",
       "<table border=\"1\" class=\"dataframe\">\n",
       "  <thead>\n",
       "    <tr style=\"text-align: right;\">\n",
       "      <th></th>\n",
       "      <th>popularity</th>\n",
       "      <th>budget</th>\n",
       "      <th>revenue</th>\n",
       "      <th>director</th>\n",
       "      <th>overview</th>\n",
       "      <th>runtime</th>\n",
       "      <th>release_date</th>\n",
       "      <th>vote_average</th>\n",
       "      <th>release_year</th>\n",
       "      <th>budget_adj</th>\n",
       "      <th>revenue_adj</th>\n",
       "      <th>Genres</th>\n",
       "      <th>Keywords</th>\n",
       "      <th>Original_title</th>\n",
       "      <th>Production_companies</th>\n",
       "    </tr>\n",
       "  </thead>\n",
       "  <tbody>\n",
       "    <tr>\n",
       "      <th>2244</th>\n",
       "      <td>0.250540</td>\n",
       "      <td>425000000</td>\n",
       "      <td>11087569</td>\n",
       "      <td>Sngmoo Lee</td>\n",
       "      <td>An Asian assassin (Dong-gun Jang) is forced to...</td>\n",
       "      <td>100</td>\n",
       "      <td>2010-12-02</td>\n",
       "      <td>6.4</td>\n",
       "      <td>2010</td>\n",
       "      <td>4.250000e+08</td>\n",
       "      <td>1.108757e+07</td>\n",
       "      <td>Adventure</td>\n",
       "      <td>assassin</td>\n",
       "      <td>The Warrior's Way</td>\n",
       "      <td>Boram Entertainment Inc.</td>\n",
       "    </tr>\n",
       "    <tr>\n",
       "      <th>3375</th>\n",
       "      <td>4.955130</td>\n",
       "      <td>380000000</td>\n",
       "      <td>1021683000</td>\n",
       "      <td>Rob Marshall</td>\n",
       "      <td>Captain Jack Sparrow crosses paths with a woma...</td>\n",
       "      <td>136</td>\n",
       "      <td>2011-05-11</td>\n",
       "      <td>6.3</td>\n",
       "      <td>2011</td>\n",
       "      <td>3.683713e+08</td>\n",
       "      <td>9.904175e+08</td>\n",
       "      <td>Adventure</td>\n",
       "      <td>sea</td>\n",
       "      <td>Pirates of the Caribbean: On Stranger Tides</td>\n",
       "      <td>Walt Disney Pictures</td>\n",
       "    </tr>\n",
       "    <tr>\n",
       "      <th>7387</th>\n",
       "      <td>4.965391</td>\n",
       "      <td>300000000</td>\n",
       "      <td>961000000</td>\n",
       "      <td>Gore Verbinski</td>\n",
       "      <td>Captain Barbossa, long believed to be dead, ha...</td>\n",
       "      <td>169</td>\n",
       "      <td>2007-05-19</td>\n",
       "      <td>6.8</td>\n",
       "      <td>2007</td>\n",
       "      <td>3.155006e+08</td>\n",
       "      <td>1.010654e+09</td>\n",
       "      <td>Adventure</td>\n",
       "      <td>ocean</td>\n",
       "      <td>Pirates of the Caribbean: At World's End</td>\n",
       "      <td>Walt Disney Pictures</td>\n",
       "    </tr>\n",
       "    <tr>\n",
       "      <th>14</th>\n",
       "      <td>5.944927</td>\n",
       "      <td>280000000</td>\n",
       "      <td>1405035767</td>\n",
       "      <td>Joss Whedon</td>\n",
       "      <td>When Tony Stark tries to jumpstart a dormant p...</td>\n",
       "      <td>141</td>\n",
       "      <td>2015-04-22</td>\n",
       "      <td>7.4</td>\n",
       "      <td>2015</td>\n",
       "      <td>2.575999e+08</td>\n",
       "      <td>1.292632e+09</td>\n",
       "      <td>Action</td>\n",
       "      <td>marvel comic</td>\n",
       "      <td>Avengers: Age of Ultron</td>\n",
       "      <td>Marvel Studios</td>\n",
       "    </tr>\n",
       "    <tr>\n",
       "      <th>6570</th>\n",
       "      <td>1.957331</td>\n",
       "      <td>270000000</td>\n",
       "      <td>391081192</td>\n",
       "      <td>Bryan Singer</td>\n",
       "      <td>Set 5 years after the end of Superman II, the ...</td>\n",
       "      <td>154</td>\n",
       "      <td>2006-06-28</td>\n",
       "      <td>5.3</td>\n",
       "      <td>2006</td>\n",
       "      <td>2.920507e+08</td>\n",
       "      <td>4.230205e+08</td>\n",
       "      <td>Adventure</td>\n",
       "      <td>saving the world</td>\n",
       "      <td>Superman Returns</td>\n",
       "      <td>DC Comics</td>\n",
       "    </tr>\n",
       "  </tbody>\n",
       "</table>\n",
       "</div>"
      ],
      "text/plain": [
       "      popularity     budget     revenue        director  \\\n",
       "2244    0.250540  425000000    11087569      Sngmoo Lee   \n",
       "3375    4.955130  380000000  1021683000    Rob Marshall   \n",
       "7387    4.965391  300000000   961000000  Gore Verbinski   \n",
       "14      5.944927  280000000  1405035767     Joss Whedon   \n",
       "6570    1.957331  270000000   391081192    Bryan Singer   \n",
       "\n",
       "                                               overview  runtime release_date  \\\n",
       "2244  An Asian assassin (Dong-gun Jang) is forced to...      100   2010-12-02   \n",
       "3375  Captain Jack Sparrow crosses paths with a woma...      136   2011-05-11   \n",
       "7387  Captain Barbossa, long believed to be dead, ha...      169   2007-05-19   \n",
       "14    When Tony Stark tries to jumpstart a dormant p...      141   2015-04-22   \n",
       "6570  Set 5 years after the end of Superman II, the ...      154   2006-06-28   \n",
       "\n",
       "      vote_average  release_year    budget_adj   revenue_adj     Genres  \\\n",
       "2244           6.4          2010  4.250000e+08  1.108757e+07  Adventure   \n",
       "3375           6.3          2011  3.683713e+08  9.904175e+08  Adventure   \n",
       "7387           6.8          2007  3.155006e+08  1.010654e+09  Adventure   \n",
       "14             7.4          2015  2.575999e+08  1.292632e+09     Action   \n",
       "6570           5.3          2006  2.920507e+08  4.230205e+08  Adventure   \n",
       "\n",
       "              Keywords                               Original_title  \\\n",
       "2244          assassin                            The Warrior's Way   \n",
       "3375               sea  Pirates of the Caribbean: On Stranger Tides   \n",
       "7387             ocean     Pirates of the Caribbean: At World's End   \n",
       "14        marvel comic                      Avengers: Age of Ultron   \n",
       "6570  saving the world                             Superman Returns   \n",
       "\n",
       "          Production_companies  \n",
       "2244  Boram Entertainment Inc.  \n",
       "3375      Walt Disney Pictures  \n",
       "7387      Walt Disney Pictures  \n",
       "14              Marvel Studios  \n",
       "6570                 DC Comics  "
      ]
     },
     "execution_count": 36,
     "metadata": {},
     "output_type": "execute_result"
    }
   ],
   "source": [
    "#Top 5 movies with the highest budget\n",
    "df_movies = movies.nlargest(5, ['budget'])\n",
    "df_movies"
   ]
  },
  {
   "cell_type": "code",
   "execution_count": 45,
   "id": "9128b139",
   "metadata": {},
   "outputs": [
    {
     "data": {
      "image/png": "[encoded data removed]",
      "text/plain": [
       "<Figure size 1008x432 with 1 Axes>"
      ]
     },
     "metadata": {
      "needs_background": "light"
     },
     "output_type": "display_data"
    }
   ],
   "source": [
    "plt.figure(figsize=(14,6))\n",
    "highest_budget = sns.barplot(x = \"Original_title\", y= 'budget', data = df_movies, color = \"aqua\")\n",
    "highest_budget.set(ylabel =\"Budget x 10 ^ 8\")\n",
    "highest_budget.set(xlabel = \"Movie Title\")\n",
    "highest_budget.set(title = \"Top Five Movies with the Highest Budget\")\n",
    "highest_budget.set_xticklabels(highest_budget.get_xticklabels(), rotation = -65);"
   ]
  },
  {
   "cell_type": "code",
   "execution_count": 46,
   "id": "d0d857c7",
   "metadata": {},
   "outputs": [
    {
     "data": {
      "text/html": [
       "<div>\n",
       "<style scoped>\n",
       "    .dataframe tbody tr th:only-of-type {\n",
       "        vertical-align: middle;\n",
       "    }\n",
       "\n",
       "    .dataframe tbody tr th {\n",
       "        vertical-align: top;\n",
       "    }\n",
       "\n",
       "    .dataframe thead th {\n",
       "        text-align: right;\n",
       "    }\n",
       "</style>\n",
       "<table border=\"1\" class=\"dataframe\">\n",
       "  <thead>\n",
       "    <tr style=\"text-align: right;\">\n",
       "      <th></th>\n",
       "      <th>popularity</th>\n",
       "      <th>budget</th>\n",
       "      <th>revenue</th>\n",
       "      <th>director</th>\n",
       "      <th>overview</th>\n",
       "      <th>runtime</th>\n",
       "      <th>release_date</th>\n",
       "      <th>vote_average</th>\n",
       "      <th>release_year</th>\n",
       "      <th>budget_adj</th>\n",
       "      <th>revenue_adj</th>\n",
       "      <th>Genres</th>\n",
       "      <th>Keywords</th>\n",
       "      <th>Original_title</th>\n",
       "      <th>Production_companies</th>\n",
       "    </tr>\n",
       "  </thead>\n",
       "  <tbody>\n",
       "    <tr>\n",
       "      <th>2618</th>\n",
       "      <td>0.090186</td>\n",
       "      <td>1</td>\n",
       "      <td>100</td>\n",
       "      <td>Jeff Pollack</td>\n",
       "      <td>A comedy about finding your true love at any p...</td>\n",
       "      <td>95</td>\n",
       "      <td>1999-04-23</td>\n",
       "      <td>4.8</td>\n",
       "      <td>1999</td>\n",
       "      <td>1.309053</td>\n",
       "      <td>130.905285</td>\n",
       "      <td>Comedy</td>\n",
       "      <td>restaurant</td>\n",
       "      <td>Lost &amp; Found</td>\n",
       "      <td>Alcon Entertainment</td>\n",
       "    </tr>\n",
       "    <tr>\n",
       "      <th>3581</th>\n",
       "      <td>0.520430</td>\n",
       "      <td>1</td>\n",
       "      <td>1378</td>\n",
       "      <td>Dermot Mulroney</td>\n",
       "      <td>A happy newlywed marriage counselor's views on...</td>\n",
       "      <td>90</td>\n",
       "      <td>2011-06-03</td>\n",
       "      <td>5.3</td>\n",
       "      <td>2011</td>\n",
       "      <td>0.969398</td>\n",
       "      <td>1335.830503</td>\n",
       "      <td>Comedy</td>\n",
       "      <td>wedding vows</td>\n",
       "      <td>Love, Wedding, Marriage</td>\n",
       "      <td>120dB Films</td>\n",
       "    </tr>\n",
       "    <tr>\n",
       "      <th>8944</th>\n",
       "      <td>0.464188</td>\n",
       "      <td>2</td>\n",
       "      <td>16</td>\n",
       "      <td>Michael Winner</td>\n",
       "      <td>Paul Kersey is again a vigilante trying to fin...</td>\n",
       "      <td>88</td>\n",
       "      <td>1982-02-20</td>\n",
       "      <td>5.6</td>\n",
       "      <td>1982</td>\n",
       "      <td>4.519285</td>\n",
       "      <td>36.154278</td>\n",
       "      <td>Action</td>\n",
       "      <td>rape</td>\n",
       "      <td>Death Wish 2</td>\n",
       "      <td>Cannon Films</td>\n",
       "    </tr>\n",
       "    <tr>\n",
       "      <th>2398</th>\n",
       "      <td>0.028456</td>\n",
       "      <td>3</td>\n",
       "      <td>43</td>\n",
       "      <td>Taika Waititi</td>\n",
       "      <td>It's 1984, and Michael Jackson is king - even ...</td>\n",
       "      <td>87</td>\n",
       "      <td>2010-02-14</td>\n",
       "      <td>7.3</td>\n",
       "      <td>2010</td>\n",
       "      <td>3.000000</td>\n",
       "      <td>43.000000</td>\n",
       "      <td>Drama</td>\n",
       "      <td>new zealand</td>\n",
       "      <td>Boy</td>\n",
       "      <td>New Zealand Film Commission</td>\n",
       "    </tr>\n",
       "    <tr>\n",
       "      <th>10050</th>\n",
       "      <td>0.317091</td>\n",
       "      <td>3</td>\n",
       "      <td>16</td>\n",
       "      <td>John Harrison</td>\n",
       "      <td>The first segment features an animated mummy s...</td>\n",
       "      <td>93</td>\n",
       "      <td>1990-05-03</td>\n",
       "      <td>5.8</td>\n",
       "      <td>1990</td>\n",
       "      <td>5.006696</td>\n",
       "      <td>26.702377</td>\n",
       "      <td>Fantasy</td>\n",
       "      <td>anthology</td>\n",
       "      <td>Tales from the Darkside: The Movie</td>\n",
       "      <td>Paramount Pictures</td>\n",
       "    </tr>\n",
       "  </tbody>\n",
       "</table>\n",
       "</div>"
      ],
      "text/plain": [
       "       popularity  budget  revenue         director  \\\n",
       "2618     0.090186       1      100     Jeff Pollack   \n",
       "3581     0.520430       1     1378  Dermot Mulroney   \n",
       "8944     0.464188       2       16   Michael Winner   \n",
       "2398     0.028456       3       43    Taika Waititi   \n",
       "10050    0.317091       3       16    John Harrison   \n",
       "\n",
       "                                                overview  runtime  \\\n",
       "2618   A comedy about finding your true love at any p...       95   \n",
       "3581   A happy newlywed marriage counselor's views on...       90   \n",
       "8944   Paul Kersey is again a vigilante trying to fin...       88   \n",
       "2398   It's 1984, and Michael Jackson is king - even ...       87   \n",
       "10050  The first segment features an animated mummy s...       93   \n",
       "\n",
       "      release_date  vote_average  release_year  budget_adj  revenue_adj  \\\n",
       "2618    1999-04-23           4.8          1999    1.309053   130.905285   \n",
       "3581    2011-06-03           5.3          2011    0.969398  1335.830503   \n",
       "8944    1982-02-20           5.6          1982    4.519285    36.154278   \n",
       "2398    2010-02-14           7.3          2010    3.000000    43.000000   \n",
       "10050   1990-05-03           5.8          1990    5.006696    26.702377   \n",
       "\n",
       "        Genres      Keywords                      Original_title  \\\n",
       "2618    Comedy    restaurant                        Lost & Found   \n",
       "3581    Comedy  wedding vows             Love, Wedding, Marriage   \n",
       "8944    Action          rape                        Death Wish 2   \n",
       "2398     Drama   new zealand                                 Boy   \n",
       "10050  Fantasy     anthology  Tales from the Darkside: The Movie   \n",
       "\n",
       "              Production_companies  \n",
       "2618           Alcon Entertainment  \n",
       "3581                   120dB Films  \n",
       "8944                  Cannon Films  \n",
       "2398   New Zealand Film Commission  \n",
       "10050           Paramount Pictures  "
      ]
     },
     "execution_count": 46,
     "metadata": {},
     "output_type": "execute_result"
    }
   ],
   "source": [
    "#Lowest budget movies\n",
    "df1_movies = movies.nsmallest(5, [\"budget\"])\n",
    "df1_movies"
   ]
  },
  {
   "cell_type": "code",
   "execution_count": 47,
   "id": "f63ec983",
   "metadata": {},
   "outputs": [
    {
     "data": {
      "text/plain": [
       "Text(0.5, 1.0, 'Top 5 low budget movies')"
      ]
     },
     "execution_count": 47,
     "metadata": {},
     "output_type": "execute_result"
    },
    {
     "data": {
      "image/png": "[encoded data removed]",
      "text/plain": [
       "<Figure size 1008x432 with 1 Axes>"
      ]
     },
     "metadata": {
      "needs_background": "light"
     },
     "output_type": "display_data"
    }
   ],
   "source": [
    "plt.figure(figsize =(14,6))\n",
    "sns.barplot(x = \"Original_title\", y = \"budget\", data = df1_movies, color =\"aquamarine\")\n",
    "plt.title(\"Top 5 low budget movies\")"
   ]
  },
  {
   "cell_type": "code",
   "execution_count": 48,
   "id": "5ab8d2f7",
   "metadata": {},
   "outputs": [
    {
     "data": {
      "text/html": [
       "<div>\n",
       "<style scoped>\n",
       "    .dataframe tbody tr th:only-of-type {\n",
       "        vertical-align: middle;\n",
       "    }\n",
       "\n",
       "    .dataframe tbody tr th {\n",
       "        vertical-align: top;\n",
       "    }\n",
       "\n",
       "    .dataframe thead th {\n",
       "        text-align: right;\n",
       "    }\n",
       "</style>\n",
       "<table border=\"1\" class=\"dataframe\">\n",
       "  <thead>\n",
       "    <tr style=\"text-align: right;\">\n",
       "      <th></th>\n",
       "      <th>popularity</th>\n",
       "      <th>budget</th>\n",
       "      <th>revenue</th>\n",
       "      <th>director</th>\n",
       "      <th>overview</th>\n",
       "      <th>runtime</th>\n",
       "      <th>release_date</th>\n",
       "      <th>vote_average</th>\n",
       "      <th>release_year</th>\n",
       "      <th>budget_adj</th>\n",
       "      <th>revenue_adj</th>\n",
       "      <th>Genres</th>\n",
       "      <th>Keywords</th>\n",
       "      <th>Original_title</th>\n",
       "      <th>Production_companies</th>\n",
       "      <th>profit</th>\n",
       "    </tr>\n",
       "  </thead>\n",
       "  <tbody>\n",
       "    <tr>\n",
       "      <th>5075</th>\n",
       "      <td>0.439958</td>\n",
       "      <td>20000000</td>\n",
       "      <td>37095657</td>\n",
       "      <td>Boaz Yakin</td>\n",
       "      <td>Molly Gunn, the freewheeling daughter of a dec...</td>\n",
       "      <td>92</td>\n",
       "      <td>2003-08-15</td>\n",
       "      <td>6.2</td>\n",
       "      <td>2003</td>\n",
       "      <td>2.370705e+07</td>\n",
       "      <td>4.397144e+07</td>\n",
       "      <td>Comedy</td>\n",
       "      <td>new york</td>\n",
       "      <td>Uptown Girls</td>\n",
       "      <td>GreeneStreet Films</td>\n",
       "      <td>17095657</td>\n",
       "    </tr>\n",
       "    <tr>\n",
       "      <th>5010</th>\n",
       "      <td>0.920571</td>\n",
       "      <td>9500000</td>\n",
       "      <td>107071655</td>\n",
       "      <td>Marcus Nispel</td>\n",
       "      <td>After picking up a traumatized young hitchhike...</td>\n",
       "      <td>98</td>\n",
       "      <td>2003-10-17</td>\n",
       "      <td>6.0</td>\n",
       "      <td>2003</td>\n",
       "      <td>1.126085e+07</td>\n",
       "      <td>1.269177e+08</td>\n",
       "      <td>Horror</td>\n",
       "      <td>trauma</td>\n",
       "      <td>The Texas Chainsaw Massacre</td>\n",
       "      <td>New Line Cinema</td>\n",
       "      <td>97571655</td>\n",
       "    </tr>\n",
       "    <tr>\n",
       "      <th>8808</th>\n",
       "      <td>0.223263</td>\n",
       "      <td>10000000</td>\n",
       "      <td>26330482</td>\n",
       "      <td>Nigel Cole</td>\n",
       "      <td>Unexpectedly widowed, prim and proper housewif...</td>\n",
       "      <td>93</td>\n",
       "      <td>2000-01-24</td>\n",
       "      <td>6.2</td>\n",
       "      <td>2000</td>\n",
       "      <td>1.266292e+07</td>\n",
       "      <td>3.334208e+07</td>\n",
       "      <td>Crime</td>\n",
       "      <td>drug dealer</td>\n",
       "      <td>Saving Grace</td>\n",
       "      <td>Homerun Productions</td>\n",
       "      <td>16330482</td>\n",
       "    </tr>\n",
       "  </tbody>\n",
       "</table>\n",
       "</div>"
      ],
      "text/plain": [
       "      popularity    budget    revenue       director  \\\n",
       "5075    0.439958  20000000   37095657     Boaz Yakin   \n",
       "5010    0.920571   9500000  107071655  Marcus Nispel   \n",
       "8808    0.223263  10000000   26330482     Nigel Cole   \n",
       "\n",
       "                                               overview  runtime release_date  \\\n",
       "5075  Molly Gunn, the freewheeling daughter of a dec...       92   2003-08-15   \n",
       "5010  After picking up a traumatized young hitchhike...       98   2003-10-17   \n",
       "8808  Unexpectedly widowed, prim and proper housewif...       93   2000-01-24   \n",
       "\n",
       "      vote_average  release_year    budget_adj   revenue_adj  Genres  \\\n",
       "5075           6.2          2003  2.370705e+07  4.397144e+07  Comedy   \n",
       "5010           6.0          2003  1.126085e+07  1.269177e+08  Horror   \n",
       "8808           6.2          2000  1.266292e+07  3.334208e+07   Crime   \n",
       "\n",
       "         Keywords               Original_title Production_companies    profit  \n",
       "5075     new york                 Uptown Girls   GreeneStreet Films  17095657  \n",
       "5010       trauma  The Texas Chainsaw Massacre      New Line Cinema  97571655  \n",
       "8808  drug dealer                 Saving Grace  Homerun Productions  16330482  "
      ]
     },
     "execution_count": 48,
     "metadata": {},
     "output_type": "execute_result"
    }
   ],
   "source": [
    "#Add a column profit\n",
    "movies['profit'] = movies['revenue'] - movies['budget']\n",
    "movies.sample(3)"
   ]
  },
  {
   "cell_type": "code",
   "execution_count": 49,
   "id": "e58f450c",
   "metadata": {},
   "outputs": [
    {
     "data": {
      "text/html": [
       "<div>\n",
       "<style scoped>\n",
       "    .dataframe tbody tr th:only-of-type {\n",
       "        vertical-align: middle;\n",
       "    }\n",
       "\n",
       "    .dataframe tbody tr th {\n",
       "        vertical-align: top;\n",
       "    }\n",
       "\n",
       "    .dataframe thead th {\n",
       "        text-align: right;\n",
       "    }\n",
       "</style>\n",
       "<table border=\"1\" class=\"dataframe\">\n",
       "  <thead>\n",
       "    <tr style=\"text-align: right;\">\n",
       "      <th></th>\n",
       "      <th>popularity</th>\n",
       "      <th>budget</th>\n",
       "      <th>revenue</th>\n",
       "      <th>director</th>\n",
       "      <th>overview</th>\n",
       "      <th>runtime</th>\n",
       "      <th>release_date</th>\n",
       "      <th>vote_average</th>\n",
       "      <th>release_year</th>\n",
       "      <th>budget_adj</th>\n",
       "      <th>revenue_adj</th>\n",
       "      <th>Genres</th>\n",
       "      <th>Keywords</th>\n",
       "      <th>Original_title</th>\n",
       "      <th>Production_companies</th>\n",
       "      <th>profit</th>\n",
       "    </tr>\n",
       "  </thead>\n",
       "  <tbody>\n",
       "    <tr>\n",
       "      <th>1386</th>\n",
       "      <td>9.432768</td>\n",
       "      <td>237000000</td>\n",
       "      <td>2781505847</td>\n",
       "      <td>James Cameron</td>\n",
       "      <td>In the 22nd century, a paraplegic Marine is di...</td>\n",
       "      <td>162</td>\n",
       "      <td>2009-12-10</td>\n",
       "      <td>7.1</td>\n",
       "      <td>2009</td>\n",
       "      <td>2.408869e+08</td>\n",
       "      <td>2.827124e+09</td>\n",
       "      <td>Action</td>\n",
       "      <td>culture clash</td>\n",
       "      <td>Avatar</td>\n",
       "      <td>Ingenious Film Partners</td>\n",
       "      <td>2544505847</td>\n",
       "    </tr>\n",
       "    <tr>\n",
       "      <th>3</th>\n",
       "      <td>11.173104</td>\n",
       "      <td>200000000</td>\n",
       "      <td>2068178225</td>\n",
       "      <td>J.J. Abrams</td>\n",
       "      <td>Thirty years after defeating the Galactic Empi...</td>\n",
       "      <td>136</td>\n",
       "      <td>2015-12-15</td>\n",
       "      <td>7.5</td>\n",
       "      <td>2015</td>\n",
       "      <td>1.839999e+08</td>\n",
       "      <td>1.902723e+09</td>\n",
       "      <td>Action</td>\n",
       "      <td>android</td>\n",
       "      <td>Star Wars: The Force Awakens</td>\n",
       "      <td>Lucasfilm</td>\n",
       "      <td>1868178225</td>\n",
       "    </tr>\n",
       "    <tr>\n",
       "      <th>5231</th>\n",
       "      <td>4.355219</td>\n",
       "      <td>200000000</td>\n",
       "      <td>1845034188</td>\n",
       "      <td>James Cameron</td>\n",
       "      <td>84 years later, a 101-year-old woman named Ros...</td>\n",
       "      <td>194</td>\n",
       "      <td>1997-11-18</td>\n",
       "      <td>7.3</td>\n",
       "      <td>1997</td>\n",
       "      <td>2.716921e+08</td>\n",
       "      <td>2.506406e+09</td>\n",
       "      <td>Drama</td>\n",
       "      <td>shipwreck</td>\n",
       "      <td>Titanic</td>\n",
       "      <td>Paramount Pictures</td>\n",
       "      <td>1645034188</td>\n",
       "    </tr>\n",
       "    <tr>\n",
       "      <th>0</th>\n",
       "      <td>32.985763</td>\n",
       "      <td>150000000</td>\n",
       "      <td>1513528810</td>\n",
       "      <td>Colin Trevorrow</td>\n",
       "      <td>Twenty-two years after the events of Jurassic ...</td>\n",
       "      <td>124</td>\n",
       "      <td>2015-06-09</td>\n",
       "      <td>6.5</td>\n",
       "      <td>2015</td>\n",
       "      <td>1.379999e+08</td>\n",
       "      <td>1.392446e+09</td>\n",
       "      <td>Action</td>\n",
       "      <td>monster</td>\n",
       "      <td>Jurassic World</td>\n",
       "      <td>Universal Studios</td>\n",
       "      <td>1363528810</td>\n",
       "    </tr>\n",
       "    <tr>\n",
       "      <th>4</th>\n",
       "      <td>9.335014</td>\n",
       "      <td>190000000</td>\n",
       "      <td>1506249360</td>\n",
       "      <td>James Wan</td>\n",
       "      <td>Deckard Shaw seeks revenge against Dominic Tor...</td>\n",
       "      <td>137</td>\n",
       "      <td>2015-04-01</td>\n",
       "      <td>7.3</td>\n",
       "      <td>2015</td>\n",
       "      <td>1.747999e+08</td>\n",
       "      <td>1.385749e+09</td>\n",
       "      <td>Action</td>\n",
       "      <td>car race</td>\n",
       "      <td>Furious 7</td>\n",
       "      <td>Universal Pictures</td>\n",
       "      <td>1316249360</td>\n",
       "    </tr>\n",
       "  </tbody>\n",
       "</table>\n",
       "</div>"
      ],
      "text/plain": [
       "      popularity     budget     revenue         director  \\\n",
       "1386    9.432768  237000000  2781505847    James Cameron   \n",
       "3      11.173104  200000000  2068178225      J.J. Abrams   \n",
       "5231    4.355219  200000000  1845034188    James Cameron   \n",
       "0      32.985763  150000000  1513528810  Colin Trevorrow   \n",
       "4       9.335014  190000000  1506249360        James Wan   \n",
       "\n",
       "                                               overview  runtime release_date  \\\n",
       "1386  In the 22nd century, a paraplegic Marine is di...      162   2009-12-10   \n",
       "3     Thirty years after defeating the Galactic Empi...      136   2015-12-15   \n",
       "5231  84 years later, a 101-year-old woman named Ros...      194   1997-11-18   \n",
       "0     Twenty-two years after the events of Jurassic ...      124   2015-06-09   \n",
       "4     Deckard Shaw seeks revenge against Dominic Tor...      137   2015-04-01   \n",
       "\n",
       "      vote_average  release_year    budget_adj   revenue_adj  Genres  \\\n",
       "1386           7.1          2009  2.408869e+08  2.827124e+09  Action   \n",
       "3              7.5          2015  1.839999e+08  1.902723e+09  Action   \n",
       "5231           7.3          1997  2.716921e+08  2.506406e+09   Drama   \n",
       "0              6.5          2015  1.379999e+08  1.392446e+09  Action   \n",
       "4              7.3          2015  1.747999e+08  1.385749e+09  Action   \n",
       "\n",
       "           Keywords                Original_title     Production_companies  \\\n",
       "1386  culture clash                        Avatar  Ingenious Film Partners   \n",
       "3           android  Star Wars: The Force Awakens                Lucasfilm   \n",
       "5231      shipwreck                       Titanic       Paramount Pictures   \n",
       "0           monster                Jurassic World        Universal Studios   \n",
       "4          car race                     Furious 7       Universal Pictures   \n",
       "\n",
       "          profit  \n",
       "1386  2544505847  \n",
       "3     1868178225  \n",
       "5231  1645034188  \n",
       "0     1363528810  \n",
       "4     1316249360  "
      ]
     },
     "execution_count": 49,
     "metadata": {},
     "output_type": "execute_result"
    }
   ],
   "source": [
    "#Top 5 highest profits\n",
    "h_profit = movies.nlargest(5, \"profit\")\n",
    "h_profit"
   ]
  },
  {
   "cell_type": "code",
   "execution_count": 50,
   "id": "da04b773",
   "metadata": {},
   "outputs": [
    {
     "data": {
      "image/png": "[encoded data removed]",
      "text/plain": [
       "<Figure size 1008x432 with 1 Axes>"
      ]
     },
     "metadata": {
      "needs_background": "light"
     },
     "output_type": "display_data"
    }
   ],
   "source": [
    "plt.figure(figsize = (14,6))\n",
    "profit_co =sns.barplot(x = \"Production_companies\", y = \"profit\", data = h_profit, color = \"aqua\")\n",
    "profit_co.set(title = \"Top profitable Movie Companies\")\n",
    "profit_co.set_xticklabels(profit_co.get_xticklabels());"
   ]
  },
  {
   "cell_type": "markdown",
   "id": "5b230208",
   "metadata": {},
   "source": [
    "#### Movies Analysis by Revenue"
   ]
  },
  {
   "cell_type": "code",
   "execution_count": 51,
   "id": "16285db3",
   "metadata": {},
   "outputs": [
    {
     "data": {
      "text/plain": [
       "15"
      ]
     },
     "execution_count": 51,
     "metadata": {},
     "output_type": "execute_result"
    }
   ],
   "source": [
    "# Shortest runtime\n",
    "movies.runtime.min()\n"
   ]
  },
  {
   "cell_type": "code",
   "execution_count": 52,
   "id": "03fa3a0c",
   "metadata": {},
   "outputs": [
    {
     "data": {
      "text/plain": [
       "338"
      ]
     },
     "execution_count": 52,
     "metadata": {},
     "output_type": "execute_result"
    }
   ],
   "source": [
    "# Longest runtime\n",
    "movies.runtime.max()"
   ]
  },
  {
   "cell_type": "code",
   "execution_count": 53,
   "id": "238341e0",
   "metadata": {},
   "outputs": [
    {
     "data": {
      "text/plain": [
       "Text(0.5, 1.0, 'Revenue generated by movie runtime')"
      ]
     },
     "execution_count": 53,
     "metadata": {},
     "output_type": "execute_result"
    },
    {
     "data": {
      "image/png": "[encoded data removed]",
      "text/plain": [
       "<Figure size 1008x432 with 1 Axes>"
      ]
     },
     "metadata": {
      "needs_background": "light"
     },
     "output_type": "display_data"
    }
   ],
   "source": [
    "plt.figure(figsize=(14,6))\n",
    "sns.lineplot(x ='runtime', y = 'revenue', data = movies, color = \"aqua\")\n",
    "plt.title(\"Revenue generated by movie runtime\")"
   ]
  },
  {
   "cell_type": "code",
   "execution_count": 54,
   "id": "6d6eeb46",
   "metadata": {},
   "outputs": [
    {
     "data": {
      "text/plain": [
       "Text(0.5, 1.0, 'Revenue by Year')"
      ]
     },
     "execution_count": 54,
     "metadata": {},
     "output_type": "execute_result"
    },
    {
     "data": {
      "image/png": "[encoded data removed]",
      "text/plain": [
       "<Figure size 1008x432 with 1 Axes>"
      ]
     },
     "metadata": {
      "needs_background": "light"
     },
     "output_type": "display_data"
    }
   ],
   "source": [
    "plt.figure(figsize=(14,6))\n",
    "sns.lineplot(x =\"release_year\", y= \"revenue\", data = movies, color = \"aquamarine\")\n",
    "plt.xlim(1959, 2016)\n",
    "plt.title(\"Revenue by Year\")"
   ]
  },
  {
   "cell_type": "code",
   "execution_count": 55,
   "id": "a7c4ae1e",
   "metadata": {},
   "outputs": [],
   "source": [
    "#Total revenue by year\n",
    "df5_movies = movies.groupby(\"release_year\")[['revenue']].sum()"
   ]
  },
  {
   "cell_type": "code",
   "execution_count": 56,
   "id": "a5221265",
   "metadata": {},
   "outputs": [
    {
     "data": {
      "text/html": [
       "<div>\n",
       "<style scoped>\n",
       "    .dataframe tbody tr th:only-of-type {\n",
       "        vertical-align: middle;\n",
       "    }\n",
       "\n",
       "    .dataframe tbody tr th {\n",
       "        vertical-align: top;\n",
       "    }\n",
       "\n",
       "    .dataframe thead th {\n",
       "        text-align: right;\n",
       "    }\n",
       "</style>\n",
       "<table border=\"1\" class=\"dataframe\">\n",
       "  <thead>\n",
       "    <tr style=\"text-align: right;\">\n",
       "      <th></th>\n",
       "      <th>revenue</th>\n",
       "    </tr>\n",
       "    <tr>\n",
       "      <th>release_year</th>\n",
       "      <th></th>\n",
       "    </tr>\n",
       "  </thead>\n",
       "  <tbody>\n",
       "    <tr>\n",
       "      <th>1966</th>\n",
       "      <td>84736689</td>\n",
       "    </tr>\n",
       "    <tr>\n",
       "      <th>1960</th>\n",
       "      <td>129005000</td>\n",
       "    </tr>\n",
       "    <tr>\n",
       "      <th>1963</th>\n",
       "      <td>176526882</td>\n",
       "    </tr>\n",
       "    <tr>\n",
       "      <th>1962</th>\n",
       "      <td>206329846</td>\n",
       "    </tr>\n",
       "    <tr>\n",
       "      <th>1968</th>\n",
       "      <td>222221762</td>\n",
       "    </tr>\n",
       "  </tbody>\n",
       "</table>\n",
       "</div>"
      ],
      "text/plain": [
       "                revenue\n",
       "release_year           \n",
       "1966           84736689\n",
       "1960          129005000\n",
       "1963          176526882\n",
       "1962          206329846\n",
       "1968          222221762"
      ]
     },
     "execution_count": 56,
     "metadata": {},
     "output_type": "execute_result"
    }
   ],
   "source": [
    "#Bottom 5 years with the lowest revenue\n",
    "hr = df5_movies['revenue'].nsmallest(5)\n",
    "hr = pd.DataFrame(hr)\n",
    "hr"
   ]
  },
  {
   "cell_type": "code",
   "execution_count": 57,
   "id": "ee4a3c66",
   "metadata": {},
   "outputs": [
    {
     "data": {
      "text/html": [
       "<div>\n",
       "<style scoped>\n",
       "    .dataframe tbody tr th:only-of-type {\n",
       "        vertical-align: middle;\n",
       "    }\n",
       "\n",
       "    .dataframe tbody tr th {\n",
       "        vertical-align: top;\n",
       "    }\n",
       "\n",
       "    .dataframe thead th {\n",
       "        text-align: right;\n",
       "    }\n",
       "</style>\n",
       "<table border=\"1\" class=\"dataframe\">\n",
       "  <thead>\n",
       "    <tr style=\"text-align: right;\">\n",
       "      <th></th>\n",
       "      <th>popularity</th>\n",
       "      <th>budget</th>\n",
       "      <th>revenue</th>\n",
       "      <th>director</th>\n",
       "      <th>overview</th>\n",
       "      <th>runtime</th>\n",
       "      <th>release_date</th>\n",
       "      <th>vote_average</th>\n",
       "      <th>release_year</th>\n",
       "      <th>budget_adj</th>\n",
       "      <th>revenue_adj</th>\n",
       "      <th>Genres</th>\n",
       "      <th>Keywords</th>\n",
       "      <th>Original_title</th>\n",
       "      <th>Production_companies</th>\n",
       "      <th>profit</th>\n",
       "    </tr>\n",
       "  </thead>\n",
       "  <tbody>\n",
       "    <tr>\n",
       "      <th>1386</th>\n",
       "      <td>9.432768</td>\n",
       "      <td>237000000</td>\n",
       "      <td>2781505847</td>\n",
       "      <td>James Cameron</td>\n",
       "      <td>In the 22nd century, a paraplegic Marine is di...</td>\n",
       "      <td>162</td>\n",
       "      <td>2009-12-10</td>\n",
       "      <td>7.1</td>\n",
       "      <td>2009</td>\n",
       "      <td>2.408869e+08</td>\n",
       "      <td>2.827124e+09</td>\n",
       "      <td>Action</td>\n",
       "      <td>culture clash</td>\n",
       "      <td>Avatar</td>\n",
       "      <td>Ingenious Film Partners</td>\n",
       "      <td>2544505847</td>\n",
       "    </tr>\n",
       "    <tr>\n",
       "      <th>3</th>\n",
       "      <td>11.173104</td>\n",
       "      <td>200000000</td>\n",
       "      <td>2068178225</td>\n",
       "      <td>J.J. Abrams</td>\n",
       "      <td>Thirty years after defeating the Galactic Empi...</td>\n",
       "      <td>136</td>\n",
       "      <td>2015-12-15</td>\n",
       "      <td>7.5</td>\n",
       "      <td>2015</td>\n",
       "      <td>1.839999e+08</td>\n",
       "      <td>1.902723e+09</td>\n",
       "      <td>Action</td>\n",
       "      <td>android</td>\n",
       "      <td>Star Wars: The Force Awakens</td>\n",
       "      <td>Lucasfilm</td>\n",
       "      <td>1868178225</td>\n",
       "    </tr>\n",
       "    <tr>\n",
       "      <th>5231</th>\n",
       "      <td>4.355219</td>\n",
       "      <td>200000000</td>\n",
       "      <td>1845034188</td>\n",
       "      <td>James Cameron</td>\n",
       "      <td>84 years later, a 101-year-old woman named Ros...</td>\n",
       "      <td>194</td>\n",
       "      <td>1997-11-18</td>\n",
       "      <td>7.3</td>\n",
       "      <td>1997</td>\n",
       "      <td>2.716921e+08</td>\n",
       "      <td>2.506406e+09</td>\n",
       "      <td>Drama</td>\n",
       "      <td>shipwreck</td>\n",
       "      <td>Titanic</td>\n",
       "      <td>Paramount Pictures</td>\n",
       "      <td>1645034188</td>\n",
       "    </tr>\n",
       "    <tr>\n",
       "      <th>4361</th>\n",
       "      <td>7.637767</td>\n",
       "      <td>220000000</td>\n",
       "      <td>1519557910</td>\n",
       "      <td>Joss Whedon</td>\n",
       "      <td>When an unexpected enemy emerges and threatens...</td>\n",
       "      <td>143</td>\n",
       "      <td>2012-04-25</td>\n",
       "      <td>7.3</td>\n",
       "      <td>2012</td>\n",
       "      <td>2.089437e+08</td>\n",
       "      <td>1.443191e+09</td>\n",
       "      <td>Science Fiction</td>\n",
       "      <td>new york</td>\n",
       "      <td>The Avengers</td>\n",
       "      <td>Marvel Studios</td>\n",
       "      <td>1299557910</td>\n",
       "    </tr>\n",
       "    <tr>\n",
       "      <th>0</th>\n",
       "      <td>32.985763</td>\n",
       "      <td>150000000</td>\n",
       "      <td>1513528810</td>\n",
       "      <td>Colin Trevorrow</td>\n",
       "      <td>Twenty-two years after the events of Jurassic ...</td>\n",
       "      <td>124</td>\n",
       "      <td>2015-06-09</td>\n",
       "      <td>6.5</td>\n",
       "      <td>2015</td>\n",
       "      <td>1.379999e+08</td>\n",
       "      <td>1.392446e+09</td>\n",
       "      <td>Action</td>\n",
       "      <td>monster</td>\n",
       "      <td>Jurassic World</td>\n",
       "      <td>Universal Studios</td>\n",
       "      <td>1363528810</td>\n",
       "    </tr>\n",
       "  </tbody>\n",
       "</table>\n",
       "</div>"
      ],
      "text/plain": [
       "      popularity     budget     revenue         director  \\\n",
       "1386    9.432768  237000000  2781505847    James Cameron   \n",
       "3      11.173104  200000000  2068178225      J.J. Abrams   \n",
       "5231    4.355219  200000000  1845034188    James Cameron   \n",
       "4361    7.637767  220000000  1519557910      Joss Whedon   \n",
       "0      32.985763  150000000  1513528810  Colin Trevorrow   \n",
       "\n",
       "                                               overview  runtime release_date  \\\n",
       "1386  In the 22nd century, a paraplegic Marine is di...      162   2009-12-10   \n",
       "3     Thirty years after defeating the Galactic Empi...      136   2015-12-15   \n",
       "5231  84 years later, a 101-year-old woman named Ros...      194   1997-11-18   \n",
       "4361  When an unexpected enemy emerges and threatens...      143   2012-04-25   \n",
       "0     Twenty-two years after the events of Jurassic ...      124   2015-06-09   \n",
       "\n",
       "      vote_average  release_year    budget_adj   revenue_adj           Genres  \\\n",
       "1386           7.1          2009  2.408869e+08  2.827124e+09           Action   \n",
       "3              7.5          2015  1.839999e+08  1.902723e+09           Action   \n",
       "5231           7.3          1997  2.716921e+08  2.506406e+09            Drama   \n",
       "4361           7.3          2012  2.089437e+08  1.443191e+09  Science Fiction   \n",
       "0              6.5          2015  1.379999e+08  1.392446e+09           Action   \n",
       "\n",
       "           Keywords                Original_title     Production_companies  \\\n",
       "1386  culture clash                        Avatar  Ingenious Film Partners   \n",
       "3           android  Star Wars: The Force Awakens                Lucasfilm   \n",
       "5231      shipwreck                       Titanic       Paramount Pictures   \n",
       "4361       new york                  The Avengers           Marvel Studios   \n",
       "0           monster                Jurassic World        Universal Studios   \n",
       "\n",
       "          profit  \n",
       "1386  2544505847  \n",
       "3     1868178225  \n",
       "5231  1645034188  \n",
       "4361  1299557910  \n",
       "0     1363528810  "
      ]
     },
     "execution_count": 57,
     "metadata": {},
     "output_type": "execute_result"
    }
   ],
   "source": [
    "df7_movies = movies.nlargest(5, \"revenue\")\n",
    "df7_movies"
   ]
  },
  {
   "cell_type": "code",
   "execution_count": 58,
   "id": "9d5e888a",
   "metadata": {},
   "outputs": [
    {
     "data": {
      "image/png": "[encoded data removed]",
      "text/plain": [
       "<Figure size 1008x432 with 1 Axes>"
      ]
     },
     "metadata": {
      "needs_background": "light"
     },
     "output_type": "display_data"
    }
   ],
   "source": [
    "plt.figure(figsize=(14,6))\n",
    "pc = sns.barplot(x = 'Production_companies', y = 'revenue', data = df7_movies, color = \"aqua\")\n",
    "pc.set(title = \"Top Production Companies by Revenue\")\n",
    "pc.set_xticklabels(pc.get_xticklabels());\n"
   ]
  },
  {
   "cell_type": "markdown",
   "id": "dd38abf9",
   "metadata": {},
   "source": [
    "### Relationship between the budget and the revenue"
   ]
  },
  {
   "cell_type": "code",
   "execution_count": 59,
   "id": "978eee16",
   "metadata": {},
   "outputs": [
    {
     "data": {
      "text/plain": [
       "Text(0.5, 1.0, 'Relationship between budget and revenue')"
      ]
     },
     "execution_count": 59,
     "metadata": {},
     "output_type": "execute_result"
    },
    {
     "data": {
      "image/png": "[encoded data removed]",
      "text/plain": [
       "<Figure size 1008x432 with 1 Axes>"
      ]
     },
     "metadata": {
      "needs_background": "light"
     },
     "output_type": "display_data"
    }
   ],
   "source": [
    "plt.figure(figsize = (14,6))\n",
    "sns.regplot(x = 'budget', y = 'revenue', data = movies, color = \"aquamarine\")\n",
    "plt.title(\"Relationship between budget and revenue\")"
   ]
  },
  {
   "cell_type": "markdown",
   "id": "9e3b70fa",
   "metadata": {},
   "source": [
    "#### Movie Analysis by popularity"
   ]
  },
  {
   "cell_type": "code",
   "execution_count": 60,
   "id": "d765840f",
   "metadata": {},
   "outputs": [
    {
     "data": {
      "text/html": [
       "<div>\n",
       "<style scoped>\n",
       "    .dataframe tbody tr th:only-of-type {\n",
       "        vertical-align: middle;\n",
       "    }\n",
       "\n",
       "    .dataframe tbody tr th {\n",
       "        vertical-align: top;\n",
       "    }\n",
       "\n",
       "    .dataframe thead th {\n",
       "        text-align: right;\n",
       "    }\n",
       "</style>\n",
       "<table border=\"1\" class=\"dataframe\">\n",
       "  <thead>\n",
       "    <tr style=\"text-align: right;\">\n",
       "      <th></th>\n",
       "      <th>popularity</th>\n",
       "      <th>budget</th>\n",
       "      <th>revenue</th>\n",
       "      <th>director</th>\n",
       "      <th>overview</th>\n",
       "      <th>runtime</th>\n",
       "      <th>release_date</th>\n",
       "      <th>vote_average</th>\n",
       "      <th>release_year</th>\n",
       "      <th>budget_adj</th>\n",
       "      <th>revenue_adj</th>\n",
       "      <th>Genres</th>\n",
       "      <th>Keywords</th>\n",
       "      <th>Original_title</th>\n",
       "      <th>Production_companies</th>\n",
       "      <th>profit</th>\n",
       "    </tr>\n",
       "  </thead>\n",
       "  <tbody>\n",
       "    <tr>\n",
       "      <th>4178</th>\n",
       "      <td>7.192039</td>\n",
       "      <td>25000000</td>\n",
       "      <td>28341469</td>\n",
       "      <td>Frank Darabont</td>\n",
       "      <td>Framed in the 1940s for the double murder of h...</td>\n",
       "      <td>142</td>\n",
       "      <td>1994-09-10</td>\n",
       "      <td>8.4</td>\n",
       "      <td>1994</td>\n",
       "      <td>3.677779e+07</td>\n",
       "      <td>4.169346e+07</td>\n",
       "      <td>Drama</td>\n",
       "      <td>prison</td>\n",
       "      <td>The Shawshank Redemption</td>\n",
       "      <td>Castle Rock Entertainment</td>\n",
       "      <td>3341469</td>\n",
       "    </tr>\n",
       "    <tr>\n",
       "      <th>7948</th>\n",
       "      <td>0.283191</td>\n",
       "      <td>1200000</td>\n",
       "      <td>4978922</td>\n",
       "      <td>Jonathan Demme</td>\n",
       "      <td>David Byrne walks onto the stage and does a so...</td>\n",
       "      <td>88</td>\n",
       "      <td>1984-11-16</td>\n",
       "      <td>8.4</td>\n",
       "      <td>1984</td>\n",
       "      <td>2.518850e+06</td>\n",
       "      <td>1.045097e+07</td>\n",
       "      <td>Documentary</td>\n",
       "      <td>concert</td>\n",
       "      <td>Stop Making Sense</td>\n",
       "      <td>Talking Heads</td>\n",
       "      <td>3778922</td>\n",
       "    </tr>\n",
       "    <tr>\n",
       "      <th>7269</th>\n",
       "      <td>5.738034</td>\n",
       "      <td>6000000</td>\n",
       "      <td>245066411</td>\n",
       "      <td>Francis Ford Coppola</td>\n",
       "      <td>Spanning the years 1945 to 1955, a chronicle o...</td>\n",
       "      <td>175</td>\n",
       "      <td>1972-03-15</td>\n",
       "      <td>8.3</td>\n",
       "      <td>1972</td>\n",
       "      <td>3.128737e+07</td>\n",
       "      <td>1.277914e+09</td>\n",
       "      <td>Drama</td>\n",
       "      <td>italy</td>\n",
       "      <td>The Godfather</td>\n",
       "      <td>Paramount Pictures</td>\n",
       "      <td>239066411</td>\n",
       "    </tr>\n",
       "    <tr>\n",
       "      <th>650</th>\n",
       "      <td>4.780419</td>\n",
       "      <td>3300000</td>\n",
       "      <td>13993093</td>\n",
       "      <td>Damien Chazelle</td>\n",
       "      <td>Under the direction of a ruthless instructor, ...</td>\n",
       "      <td>105</td>\n",
       "      <td>2014-10-10</td>\n",
       "      <td>8.2</td>\n",
       "      <td>2014</td>\n",
       "      <td>3.039600e+06</td>\n",
       "      <td>1.288891e+07</td>\n",
       "      <td>Drama</td>\n",
       "      <td>jazz</td>\n",
       "      <td>Whiplash</td>\n",
       "      <td>Bold Films</td>\n",
       "      <td>10693093</td>\n",
       "    </tr>\n",
       "    <tr>\n",
       "      <th>2409</th>\n",
       "      <td>8.947905</td>\n",
       "      <td>63000000</td>\n",
       "      <td>100853753</td>\n",
       "      <td>David Fincher</td>\n",
       "      <td>A ticking-time-bomb insomniac and a slippery s...</td>\n",
       "      <td>139</td>\n",
       "      <td>1999-10-14</td>\n",
       "      <td>8.1</td>\n",
       "      <td>1999</td>\n",
       "      <td>8.247033e+07</td>\n",
       "      <td>1.320229e+08</td>\n",
       "      <td>Drama</td>\n",
       "      <td>support group</td>\n",
       "      <td>Fight Club</td>\n",
       "      <td>Regency Enterprises</td>\n",
       "      <td>37853753</td>\n",
       "    </tr>\n",
       "  </tbody>\n",
       "</table>\n",
       "</div>"
      ],
      "text/plain": [
       "      popularity    budget    revenue              director  \\\n",
       "4178    7.192039  25000000   28341469        Frank Darabont   \n",
       "7948    0.283191   1200000    4978922        Jonathan Demme   \n",
       "7269    5.738034   6000000  245066411  Francis Ford Coppola   \n",
       "650     4.780419   3300000   13993093       Damien Chazelle   \n",
       "2409    8.947905  63000000  100853753         David Fincher   \n",
       "\n",
       "                                               overview  runtime release_date  \\\n",
       "4178  Framed in the 1940s for the double murder of h...      142   1994-09-10   \n",
       "7948  David Byrne walks onto the stage and does a so...       88   1984-11-16   \n",
       "7269  Spanning the years 1945 to 1955, a chronicle o...      175   1972-03-15   \n",
       "650   Under the direction of a ruthless instructor, ...      105   2014-10-10   \n",
       "2409  A ticking-time-bomb insomniac and a slippery s...      139   1999-10-14   \n",
       "\n",
       "      vote_average  release_year    budget_adj   revenue_adj       Genres  \\\n",
       "4178           8.4          1994  3.677779e+07  4.169346e+07        Drama   \n",
       "7948           8.4          1984  2.518850e+06  1.045097e+07  Documentary   \n",
       "7269           8.3          1972  3.128737e+07  1.277914e+09        Drama   \n",
       "650            8.2          2014  3.039600e+06  1.288891e+07        Drama   \n",
       "2409           8.1          1999  8.247033e+07  1.320229e+08        Drama   \n",
       "\n",
       "           Keywords            Original_title       Production_companies  \\\n",
       "4178         prison  The Shawshank Redemption  Castle Rock Entertainment   \n",
       "7948        concert         Stop Making Sense              Talking Heads   \n",
       "7269          italy             The Godfather         Paramount Pictures   \n",
       "650            jazz                  Whiplash                 Bold Films   \n",
       "2409  support group                Fight Club        Regency Enterprises   \n",
       "\n",
       "         profit  \n",
       "4178    3341469  \n",
       "7948    3778922  \n",
       "7269  239066411  \n",
       "650    10693093  \n",
       "2409   37853753  "
      ]
     },
     "execution_count": 60,
     "metadata": {},
     "output_type": "execute_result"
    }
   ],
   "source": [
    "#Top 5 movies with the highest rating\n",
    "df3_movies = movies.nlargest(5, [\"vote_average\"])\n",
    "df3_movies"
   ]
  },
  {
   "cell_type": "code",
   "execution_count": 61,
   "id": "b51e981d",
   "metadata": {},
   "outputs": [
    {
     "data": {
      "text/html": [
       "<div>\n",
       "<style scoped>\n",
       "    .dataframe tbody tr th:only-of-type {\n",
       "        vertical-align: middle;\n",
       "    }\n",
       "\n",
       "    .dataframe tbody tr th {\n",
       "        vertical-align: top;\n",
       "    }\n",
       "\n",
       "    .dataframe thead th {\n",
       "        text-align: right;\n",
       "    }\n",
       "</style>\n",
       "<table border=\"1\" class=\"dataframe\">\n",
       "  <thead>\n",
       "    <tr style=\"text-align: right;\">\n",
       "      <th></th>\n",
       "      <th>Original_title</th>\n",
       "      <th>vote_average</th>\n",
       "    </tr>\n",
       "  </thead>\n",
       "  <tbody>\n",
       "    <tr>\n",
       "      <th>4178</th>\n",
       "      <td>The Shawshank Redemption</td>\n",
       "      <td>8.4</td>\n",
       "    </tr>\n",
       "    <tr>\n",
       "      <th>7948</th>\n",
       "      <td>Stop Making Sense</td>\n",
       "      <td>8.4</td>\n",
       "    </tr>\n",
       "    <tr>\n",
       "      <th>7269</th>\n",
       "      <td>The Godfather</td>\n",
       "      <td>8.3</td>\n",
       "    </tr>\n",
       "    <tr>\n",
       "      <th>650</th>\n",
       "      <td>Whiplash</td>\n",
       "      <td>8.2</td>\n",
       "    </tr>\n",
       "    <tr>\n",
       "      <th>2409</th>\n",
       "      <td>Fight Club</td>\n",
       "      <td>8.1</td>\n",
       "    </tr>\n",
       "  </tbody>\n",
       "</table>\n",
       "</div>"
      ],
      "text/plain": [
       "                Original_title  vote_average\n",
       "4178  The Shawshank Redemption           8.4\n",
       "7948         Stop Making Sense           8.4\n",
       "7269             The Godfather           8.3\n",
       "650                   Whiplash           8.2\n",
       "2409                Fight Club           8.1"
      ]
     },
     "execution_count": 61,
     "metadata": {},
     "output_type": "execute_result"
    }
   ],
   "source": [
    "dfa = df3_movies[[\"Original_title\", 'vote_average']]\n",
    "dfa"
   ]
  },
  {
   "cell_type": "code",
   "execution_count": 62,
   "id": "d35100ce",
   "metadata": {},
   "outputs": [
    {
     "data": {
      "text/plain": [
       "(0.0, 100.0, 0.0, 100.0)"
      ]
     },
     "execution_count": 62,
     "metadata": {},
     "output_type": "execute_result"
    },
    {
     "data": {
      "image/png": "[encoded data removed]",
      "text/plain": [
       "<Figure size 1008x432 with 1 Axes>"
      ]
     },
     "metadata": {
      "needs_background": "light"
     },
     "output_type": "display_data"
    }
   ],
   "source": [
    "plt.figure(figsize =(14,6))\n",
    "squarify.plot(dfa.vote_average, label = dfa.Original_title, color = ['aqua', \"aquamarine\",\"teal\", \"turquoise\", \"lightseagreen\"])\n",
    "plt.title(\"Top 5 highest rated movies\")\n",
    "plt.axis(\"off\")"
   ]
  },
  {
   "cell_type": "code",
   "execution_count": 63,
   "id": "79fb61d0",
   "metadata": {},
   "outputs": [
    {
     "data": {
      "text/html": [
       "<div>\n",
       "<style scoped>\n",
       "    .dataframe tbody tr th:only-of-type {\n",
       "        vertical-align: middle;\n",
       "    }\n",
       "\n",
       "    .dataframe tbody tr th {\n",
       "        vertical-align: top;\n",
       "    }\n",
       "\n",
       "    .dataframe thead th {\n",
       "        text-align: right;\n",
       "    }\n",
       "</style>\n",
       "<table border=\"1\" class=\"dataframe\">\n",
       "  <thead>\n",
       "    <tr style=\"text-align: right;\">\n",
       "      <th></th>\n",
       "      <th>Original_title</th>\n",
       "      <th>vote_average</th>\n",
       "    </tr>\n",
       "  </thead>\n",
       "  <tbody>\n",
       "    <tr>\n",
       "      <th>4859</th>\n",
       "      <td>Foodfight!</td>\n",
       "      <td>2.2</td>\n",
       "    </tr>\n",
       "    <tr>\n",
       "      <th>3134</th>\n",
       "      <td>Disaster Movie</td>\n",
       "      <td>3.3</td>\n",
       "    </tr>\n",
       "    <tr>\n",
       "      <th>4115</th>\n",
       "      <td>FearDotCom</td>\n",
       "      <td>3.3</td>\n",
       "    </tr>\n",
       "    <tr>\n",
       "      <th>4540</th>\n",
       "      <td>Dracula 3D</td>\n",
       "      <td>3.3</td>\n",
       "    </tr>\n",
       "    <tr>\n",
       "      <th>5082</th>\n",
       "      <td>House of the Dead</td>\n",
       "      <td>3.4</td>\n",
       "    </tr>\n",
       "  </tbody>\n",
       "</table>\n",
       "</div>"
      ],
      "text/plain": [
       "         Original_title  vote_average\n",
       "4859         Foodfight!           2.2\n",
       "3134     Disaster Movie           3.3\n",
       "4115         FearDotCom           3.3\n",
       "4540         Dracula 3D           3.3\n",
       "5082  House of the Dead           3.4"
      ]
     },
     "execution_count": 63,
     "metadata": {},
     "output_type": "execute_result"
    }
   ],
   "source": [
    "#Top 5 movies with the lowest rating\n",
    "df4_movies = movies.nsmallest(5, [\"vote_average\"])\n",
    "df4_movies\n",
    "lr_movies = df4_movies[[\"Original_title\",\"vote_average\"]]\n",
    "lr_movies"
   ]
  },
  {
   "cell_type": "code",
   "execution_count": 64,
   "id": "d6e57c18",
   "metadata": {},
   "outputs": [
    {
     "data": {
      "text/plain": [
       "Text(0.5, 1.0, 'Bottom 5 Lowest Rated movies')"
      ]
     },
     "execution_count": 64,
     "metadata": {},
     "output_type": "execute_result"
    },
    {
     "data": {
      "image/png": "[encoded data removed]",
      "text/plain": [
       "<Figure size 1008x432 with 1 Axes>"
      ]
     },
     "metadata": {
      "needs_background": "light"
     },
     "output_type": "display_data"
    }
   ],
   "source": [
    "plt.figure(figsize=(14,6))\n",
    "squarify.plot(lr_movies.vote_average, label = lr_movies.Original_title, \n",
    "              color = ['aqua', \"aquamarine\",\"teal\", \"turquoise\", \"lightseagreen\"])\n",
    "plt.title(\"Bottom 5 Lowest Rated movies\")"
   ]
  },
  {
   "cell_type": "code",
   "execution_count": 65,
   "id": "bfa9f3d1",
   "metadata": {},
   "outputs": [
    {
     "data": {
      "text/plain": [
       "release_year\n",
       "2015    26202922801\n",
       "2013    24350666103\n",
       "2012    24184456032\n",
       "2014    24069969357\n",
       "2011    23408245247\n",
       "Name: revenue, dtype: int64"
      ]
     },
     "execution_count": 65,
     "metadata": {},
     "output_type": "execute_result"
    }
   ],
   "source": [
    "# Top 5 years with the lowest revenue\n",
    "df5_movies['revenue'].nlargest(5)"
   ]
  },
  {
   "cell_type": "code",
   "execution_count": 66,
   "id": "0758fb67",
   "metadata": {},
   "outputs": [
    {
     "data": {
      "text/html": [
       "<div>\n",
       "<style scoped>\n",
       "    .dataframe tbody tr th:only-of-type {\n",
       "        vertical-align: middle;\n",
       "    }\n",
       "\n",
       "    .dataframe tbody tr th {\n",
       "        vertical-align: top;\n",
       "    }\n",
       "\n",
       "    .dataframe thead th {\n",
       "        text-align: right;\n",
       "    }\n",
       "</style>\n",
       "<table border=\"1\" class=\"dataframe\">\n",
       "  <thead>\n",
       "    <tr style=\"text-align: right;\">\n",
       "      <th></th>\n",
       "      <th>popularity</th>\n",
       "      <th>budget</th>\n",
       "      <th>revenue</th>\n",
       "      <th>director</th>\n",
       "      <th>overview</th>\n",
       "      <th>runtime</th>\n",
       "      <th>release_date</th>\n",
       "      <th>vote_average</th>\n",
       "      <th>release_year</th>\n",
       "      <th>budget_adj</th>\n",
       "      <th>revenue_adj</th>\n",
       "      <th>Genres</th>\n",
       "      <th>Keywords</th>\n",
       "      <th>Original_title</th>\n",
       "      <th>Production_companies</th>\n",
       "      <th>profit</th>\n",
       "    </tr>\n",
       "  </thead>\n",
       "  <tbody>\n",
       "    <tr>\n",
       "      <th>0</th>\n",
       "      <td>32.985763</td>\n",
       "      <td>150000000</td>\n",
       "      <td>1513528810</td>\n",
       "      <td>Colin Trevorrow</td>\n",
       "      <td>Twenty-two years after the events of Jurassic ...</td>\n",
       "      <td>124</td>\n",
       "      <td>2015-06-09</td>\n",
       "      <td>6.5</td>\n",
       "      <td>2015</td>\n",
       "      <td>1.379999e+08</td>\n",
       "      <td>1.392446e+09</td>\n",
       "      <td>Action</td>\n",
       "      <td>monster</td>\n",
       "      <td>Jurassic World</td>\n",
       "      <td>Universal Studios</td>\n",
       "      <td>1363528810</td>\n",
       "    </tr>\n",
       "    <tr>\n",
       "      <th>1</th>\n",
       "      <td>28.419936</td>\n",
       "      <td>150000000</td>\n",
       "      <td>378436354</td>\n",
       "      <td>George Miller</td>\n",
       "      <td>An apocalyptic story set in the furthest reach...</td>\n",
       "      <td>120</td>\n",
       "      <td>2015-05-13</td>\n",
       "      <td>7.1</td>\n",
       "      <td>2015</td>\n",
       "      <td>1.379999e+08</td>\n",
       "      <td>3.481613e+08</td>\n",
       "      <td>Action</td>\n",
       "      <td>future</td>\n",
       "      <td>Mad Max: Fury Road</td>\n",
       "      <td>Village Roadshow Pictures</td>\n",
       "      <td>228436354</td>\n",
       "    </tr>\n",
       "    <tr>\n",
       "      <th>629</th>\n",
       "      <td>24.949134</td>\n",
       "      <td>165000000</td>\n",
       "      <td>621752480</td>\n",
       "      <td>Christopher Nolan</td>\n",
       "      <td>Interstellar chronicles the adventures of a gr...</td>\n",
       "      <td>169</td>\n",
       "      <td>2014-11-05</td>\n",
       "      <td>8.0</td>\n",
       "      <td>2014</td>\n",
       "      <td>1.519800e+08</td>\n",
       "      <td>5.726906e+08</td>\n",
       "      <td>Adventure</td>\n",
       "      <td>saving the world</td>\n",
       "      <td>Interstellar</td>\n",
       "      <td>Paramount Pictures</td>\n",
       "      <td>456752480</td>\n",
       "    </tr>\n",
       "    <tr>\n",
       "      <th>630</th>\n",
       "      <td>14.311205</td>\n",
       "      <td>170000000</td>\n",
       "      <td>773312399</td>\n",
       "      <td>James Gunn</td>\n",
       "      <td>Light years from Earth, 26 years after being a...</td>\n",
       "      <td>121</td>\n",
       "      <td>2014-07-30</td>\n",
       "      <td>7.9</td>\n",
       "      <td>2014</td>\n",
       "      <td>1.565855e+08</td>\n",
       "      <td>7.122911e+08</td>\n",
       "      <td>Action</td>\n",
       "      <td>marvel comic</td>\n",
       "      <td>Guardians of the Galaxy</td>\n",
       "      <td>Marvel Studios</td>\n",
       "      <td>603312399</td>\n",
       "    </tr>\n",
       "    <tr>\n",
       "      <th>2</th>\n",
       "      <td>13.112507</td>\n",
       "      <td>110000000</td>\n",
       "      <td>295238201</td>\n",
       "      <td>Robert Schwentke</td>\n",
       "      <td>Beatrice Prior must confront her inner demons ...</td>\n",
       "      <td>119</td>\n",
       "      <td>2015-03-18</td>\n",
       "      <td>6.3</td>\n",
       "      <td>2015</td>\n",
       "      <td>1.012000e+08</td>\n",
       "      <td>2.716190e+08</td>\n",
       "      <td>Adventure</td>\n",
       "      <td>based on novel</td>\n",
       "      <td>Insurgent</td>\n",
       "      <td>Summit Entertainment</td>\n",
       "      <td>185238201</td>\n",
       "    </tr>\n",
       "  </tbody>\n",
       "</table>\n",
       "</div>"
      ],
      "text/plain": [
       "     popularity     budget     revenue           director  \\\n",
       "0     32.985763  150000000  1513528810    Colin Trevorrow   \n",
       "1     28.419936  150000000   378436354      George Miller   \n",
       "629   24.949134  165000000   621752480  Christopher Nolan   \n",
       "630   14.311205  170000000   773312399         James Gunn   \n",
       "2     13.112507  110000000   295238201   Robert Schwentke   \n",
       "\n",
       "                                              overview  runtime release_date  \\\n",
       "0    Twenty-two years after the events of Jurassic ...      124   2015-06-09   \n",
       "1    An apocalyptic story set in the furthest reach...      120   2015-05-13   \n",
       "629  Interstellar chronicles the adventures of a gr...      169   2014-11-05   \n",
       "630  Light years from Earth, 26 years after being a...      121   2014-07-30   \n",
       "2    Beatrice Prior must confront her inner demons ...      119   2015-03-18   \n",
       "\n",
       "     vote_average  release_year    budget_adj   revenue_adj     Genres  \\\n",
       "0             6.5          2015  1.379999e+08  1.392446e+09     Action   \n",
       "1             7.1          2015  1.379999e+08  3.481613e+08     Action   \n",
       "629           8.0          2014  1.519800e+08  5.726906e+08  Adventure   \n",
       "630           7.9          2014  1.565855e+08  7.122911e+08     Action   \n",
       "2             6.3          2015  1.012000e+08  2.716190e+08  Adventure   \n",
       "\n",
       "             Keywords           Original_title       Production_companies  \\\n",
       "0             monster           Jurassic World          Universal Studios   \n",
       "1              future       Mad Max: Fury Road  Village Roadshow Pictures   \n",
       "629  saving the world             Interstellar         Paramount Pictures   \n",
       "630      marvel comic  Guardians of the Galaxy             Marvel Studios   \n",
       "2      based on novel                Insurgent       Summit Entertainment   \n",
       "\n",
       "         profit  \n",
       "0    1363528810  \n",
       "1     228436354  \n",
       "629   456752480  \n",
       "630   603312399  \n",
       "2     185238201  "
      ]
     },
     "execution_count": 66,
     "metadata": {},
     "output_type": "execute_result"
    }
   ],
   "source": [
    "p_movies = movies.nlargest(5, ['popularity'])\n",
    "p_movies"
   ]
  },
  {
   "cell_type": "code",
   "execution_count": 67,
   "id": "1118a64d",
   "metadata": {},
   "outputs": [
    {
     "data": {
      "text/plain": [
       "[Text(0.5, 1.0, 'Top 5 Popular Movies')]"
      ]
     },
     "execution_count": 67,
     "metadata": {},
     "output_type": "execute_result"
    },
    {
     "data": {
      "image/png": "[encoded data removed]",
      "text/plain": [
       "<Figure size 1008x432 with 1 Axes>"
      ]
     },
     "metadata": {
      "needs_background": "light"
     },
     "output_type": "display_data"
    }
   ],
   "source": [
    "plt.figure(figsize=(14,6))\n",
    "movies_p = sns.barplot(x = 'Original_title',  y = 'popularity', data = p_movies, color = 'aqua')\n",
    "movies_p.set(title = \"Top 5 Popular Movies\")"
   ]
  },
  {
   "cell_type": "code",
   "execution_count": 68,
   "id": "3ad96b92",
   "metadata": {},
   "outputs": [
    {
     "data": {
      "text/plain": [
       "Text(0.5, 1.0, 'Top 5 Featured Directors on tmdb movies')"
      ]
     },
     "execution_count": 68,
     "metadata": {},
     "output_type": "execute_result"
    },
    {
     "data": {
      "image/png": "[encoded data removed]",
      "text/plain": [
       "<Figure size 1008x432 with 1 Axes>"
      ]
     },
     "metadata": {
      "needs_background": "light"
     },
     "output_type": "display_data"
    }
   ],
   "source": [
    "plt.figure(figsize = (14,6))\n",
    "movies['director'].value_counts()[:5].plot(kind ='barh', color =\"aqua\")\n",
    "plt.ylabel(\"Directors\")\n",
    "plt.xlabel(\"Number of movies\")\n",
    "plt.title(\"Top 5 Featured Directors on tmdb movies\")"
   ]
  },
  {
   "cell_type": "markdown",
   "id": "c87dc733",
   "metadata": {},
   "source": [
    "#### Frequently used keywords"
   ]
  },
  {
   "cell_type": "code",
   "execution_count": 69,
   "id": "c53ce667",
   "metadata": {},
   "outputs": [
    {
     "data": {
      "image/png": "[encoded data removed]",
      "text/plain": [
       "<Figure size 1008x432 with 1 Axes>"
      ]
     },
     "metadata": {
      "needs_background": "light"
     },
     "output_type": "display_data"
    }
   ],
   "source": [
    "plt.figure(figsize=(14,6))\n",
    "wordcloud = WordCloud(background_color = \"aqua\").generate(\" \".join(movies.Keywords))\n",
    "plt.title(\"Main Keywords\")\n",
    "plt.axis(\"off\")\n",
    "plt.imshow(wordcloud)\n",
    "plt.show()"
   ]
  },
  {
   "cell_type": "code",
   "execution_count": null,
   "id": "c3d24a70",
   "metadata": {},
   "outputs": [],
   "source": []
  },
  {
   "cell_type": "code",
   "execution_count": null,
   "id": "a28a8ab8",
   "metadata": {},
   "outputs": [],
   "source": []
  }
 ],
 "metadata": {
  "kernelspec": {
   "display_name": "Python 3 (ipykernel)",
   "language": "python",
   "name": "python3"
  },
  "language_info": {
   "codemirror_mode": {
    "name": "ipython",
    "version": 3
   },
   "file_extension": ".py",
   "mimetype": "text/x-python",
   "name": "python",
   "nbconvert_exporter": "python",
   "pygments_lexer": "ipython3",
   "version": "3.9.12"
  }
 },
 "nbformat": 4,
 "nbformat_minor": 5
}
